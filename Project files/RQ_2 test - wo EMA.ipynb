{
  "cells": [
    {
      "cell_type": "markdown",
      "metadata": {
        "id": "y2Okl2JnUUhr"
      },
      "source": [
        "# Vector-Quantized Variational Autoencoders\n",
        "\n",
        "**Author:** [Sayak Paul](https://twitter.com/RisingSayak)<br>\n",
        "**Date created:** 2021/07/21<br>\n",
        "**Last modified:** 2022/06/27<br>\n",
        "**Description:** Training a VQ-VAE for image reconstruction and codebook sampling for generation."
      ]
    },
    {
      "cell_type": "markdown",
      "metadata": {
        "id": "e-3ZUN7rUUhy"
      },
      "source": [
        "## Imports"
      ]
    },
    {
      "cell_type": "code",
      "execution_count": 390,
      "metadata": {
        "id": "-hu-GqEYUUhy"
      },
      "outputs": [],
      "source": [
        "!pip install -q tensorflow-probability\n",
        "import numpy as np\n",
        "import matplotlib.pyplot as plt\n",
        "\n",
        "from tensorflow import keras\n",
        "from tensorflow.keras import layers\n",
        "import tensorflow_probability as tfp\n",
        "import tensorflow as tf\n",
        "import cv2\n"
      ]
    },
    {
      "cell_type": "markdown",
      "metadata": {
        "id": "I4Q3wR9iUUh0"
      },
      "source": [
        "**A note on straight-through estimation**:\n",
        "\n",
        "This line of code does the straight-through estimation part: `quantized = x +\n",
        "tf.stop_gradient(quantized - x)`. During backpropagation, `(quantized - x)` won't be\n",
        "included in the computation graph and the gradients obtained for `quantized`\n",
        "will be copied for `inputs`. Thanks to [this video](https://youtu.be/VZFVUrYcig0?t=1393)\n",
        "for helping me understand this technique."
      ]
    },
    {
      "cell_type": "markdown",
      "metadata": {},
      "source": [
        "## Residual "
      ]
    },
    {
      "cell_type": "code",
      "execution_count": null,
      "metadata": {},
      "outputs": [],
      "source": [
        "class ResidualVectorQuantizer(layers.Layer):\n",
        "    def __init__(self, num_embeddings, embedding_dim, num_quantizers, beta=0.25, **kwargs):\n",
        "        super().__init__(**kwargs)\n",
        "        self.embedding_dim = embedding_dim\n",
        "        self.num_embeddings = num_embeddings\n",
        "        self.num_quantizers = num_quantizers  # Number of residual quantization stages\n",
        "        self.beta = beta\n",
        "\n",
        "        # Create multiple embedding matrices (one per quantization stage)\n",
        "        w_init =  tf.keras.initializers.RandomUniform()\n",
        "        self.embeddings = [\n",
        "            tf.Variable(\n",
        "                initial_value=w_init(\n",
        "                    shape=(self.embedding_dim, self.num_embeddings), dtype=\"float32\"\n",
        "                ),\n",
        "                trainable=True,\n",
        "                name=f\"embeddings_vqvae_{i}\",\n",
        "            )\n",
        "            for i in range(self.num_quantizers)\n",
        "        ]\n",
        "\n",
        "    def call(self, x):\n",
        "        shape = tf.shape(x)  # Get dynamic shape\n",
        "        batch_size, height, width, channels = shape[0], shape[1], shape[2], shape[3]\n",
        "        flattened = tf.reshape(x, [batch_size * height * width, channels])\n",
        "\n",
        "        residual = flattened\n",
        "        quantized_output = tf.zeros_like(flattened)\n",
        "        total_commitment_loss = 0\n",
        "        total_codebook_loss = 0\n",
        "\n",
        "\n",
        "        for i in range(self.num_quantizers):\n",
        "         \n",
        "            encoding_indices = self.get_code_indices(residual, self.embeddings[i])\n",
        "            encodings = tf.one_hot(encoding_indices, self.num_embeddings)\n",
        "            quantized = tf.matmul(encodings, self.embeddings[i], transpose_b=True)\n",
        "\n",
        "            \n",
        "            # Compute loss\n",
        "            codebook_loss = tf.reduce_mean((tf.stop_gradient(residual) - quantized) ** 2)\n",
        "            commitment_loss = tf.reduce_mean((residual - tf.stop_gradient(quantized)) ** 2)\n",
        "            total_commitment_loss += commitment_loss\n",
        "            total_codebook_loss += codebook_loss\n",
        "\n",
        "            residual -= quantized\n",
        "            quantized_output += quantized\n",
        "    \n",
        "\n",
        "        total_loss = self.beta * total_commitment_loss + total_codebook_loss\n",
        "        self.add_loss(total_loss)\n",
        "\n",
        "        # Reshape back to (batch, height, width, channels)\n",
        "        quantized_output = tf.reshape(quantized_output, [batch_size, height, width, channels])\n",
        "\n",
        "        # Straight-through estimator\n",
        "        quantized_output = x + tf.stop_gradient(quantized_output - x)\n",
        "        return quantized_output\n",
        "\n",
        "    def get_code_indices(self, inputs, embedding_matrix):\n",
        "        # Calculate L2-normalized distance between inputs and codebook vectors\n",
        "        similarity = tf.matmul(inputs, embedding_matrix)\n",
        "        distances = (\n",
        "            tf.reduce_sum(inputs ** 2, axis=1, keepdims=True)\n",
        "            + tf.reduce_sum(embedding_matrix ** 2, axis=0)\n",
        "            - 2 * similarity\n",
        "        )\n",
        "\n",
        "        # Get the index of the nearest codebook vector\n",
        "        encoding_indices = tf.argmin(distances, axis=1)\n",
        "        return encoding_indices\n"
      ]
    },
    {
      "cell_type": "markdown",
      "metadata": {
        "id": "2-aVrzU_UUh1"
      },
      "source": [
        "## Encoder and decoder\n",
        "\n",
        "Now for the encoder and the decoder for the VQ-VAE. We will keep them small so\n",
        "that their capacity is a good fit for the MNIST dataset. The implementation of the encoder and\n",
        "come from\n",
        "[this example](https://keras.io/examples/generative/vae).\n",
        "\n",
        "Note that activations _other than ReLU_ may not work for the encoder and decoder layers in the\n",
        "quantization architecture: Leaky ReLU activated layers, for example, have proven difficult to\n",
        "train, resulting in intermittent loss spikes that the model has trouble recovering from."
      ]
    },
    {
      "cell_type": "code",
      "execution_count": null,
      "metadata": {
        "id": "JujsUdT2UUh1"
      },
      "outputs": [],
      "source": [
        "\n",
        "def get_encoder(latent_dim=16):\n",
        "    encoder_inputs = keras.Input(shape=(28, 28, 1))\n",
        "    x = layers.Conv2D(32, 3, activation=\"relu\", strides=2, padding=\"same\")(\n",
        "        encoder_inputs\n",
        "    )\n",
        "    x = layers.Conv2D(64, 3, activation=\"relu\", strides=2, padding=\"same\")(x)\n",
        "    encoder_outputs = layers.Conv2D(latent_dim, 1, padding=\"same\")(x)\n",
        "    return keras.Model(encoder_inputs, encoder_outputs, name=\"encoder\")\n",
        "\n",
        "\n",
        "def get_decoder(latent_dim=16):\n",
        "    latent_inputs = keras.Input(shape=get_encoder(latent_dim).output.shape[1:])\n",
        "    x = layers.Conv2DTranspose(64, 3, activation=\"relu\", strides=2, padding=\"same\")(\n",
        "        latent_inputs\n",
        "    )\n",
        "    x = layers.Conv2DTranspose(32, 3, activation=\"relu\", strides=2, padding=\"same\")(x)\n",
        "    decoder_outputs = layers.Conv2DTranspose(1, 3, padding=\"same\")(x)\n",
        "    return keras.Model(latent_inputs, decoder_outputs, name=\"decoder\")\n"
      ]
    },
    {
      "cell_type": "markdown",
      "metadata": {},
      "source": [
        "## Defining RQ"
      ]
    },
    {
      "cell_type": "code",
      "execution_count": 4,
      "metadata": {},
      "outputs": [
        {
          "data": {
            "text/html": [
              "<pre style=\"white-space:pre;overflow-x:auto;line-height:normal;font-family:Menlo,'DejaVu Sans Mono',consolas,'Courier New',monospace\"><span style=\"font-weight: bold\">Model: \"rvq_vae\"</span>\n",
              "</pre>\n"
            ],
            "text/plain": [
              "\u001b[1mModel: \"rvq_vae\"\u001b[0m\n"
            ]
          },
          "metadata": {},
          "output_type": "display_data"
        },
        {
          "data": {
            "text/html": [
              "<pre style=\"white-space:pre;overflow-x:auto;line-height:normal;font-family:Menlo,'DejaVu Sans Mono',consolas,'Courier New',monospace\">┏━━━━━━━━━━━━━━━━━━━━━━━━━━━━━━━━━┳━━━━━━━━━━━━━━━━━━━━━━━━┳━━━━━━━━━━━━━━━┓\n",
              "┃<span style=\"font-weight: bold\"> Layer (type)                    </span>┃<span style=\"font-weight: bold\"> Output Shape           </span>┃<span style=\"font-weight: bold\">       Param # </span>┃\n",
              "┡━━━━━━━━━━━━━━━━━━━━━━━━━━━━━━━━━╇━━━━━━━━━━━━━━━━━━━━━━━━╇━━━━━━━━━━━━━━━┩\n",
              "│ input_layer_3 (<span style=\"color: #0087ff; text-decoration-color: #0087ff\">InputLayer</span>)      │ (<span style=\"color: #00d7ff; text-decoration-color: #00d7ff\">None</span>, <span style=\"color: #00af00; text-decoration-color: #00af00\">28</span>, <span style=\"color: #00af00; text-decoration-color: #00af00\">28</span>, <span style=\"color: #00af00; text-decoration-color: #00af00\">1</span>)      │             <span style=\"color: #00af00; text-decoration-color: #00af00\">0</span> │\n",
              "├─────────────────────────────────┼────────────────────────┼───────────────┤\n",
              "│ encoder (<span style=\"color: #0087ff; text-decoration-color: #0087ff\">Functional</span>)            │ (<span style=\"color: #00d7ff; text-decoration-color: #00d7ff\">None</span>, <span style=\"color: #00af00; text-decoration-color: #00af00\">7</span>, <span style=\"color: #00af00; text-decoration-color: #00af00\">7</span>, <span style=\"color: #00af00; text-decoration-color: #00af00\">4</span>)        │        <span style=\"color: #00af00; text-decoration-color: #00af00\">19,076</span> │\n",
              "├─────────────────────────────────┼────────────────────────┼───────────────┤\n",
              "│ vector_quantizer                │ (<span style=\"color: #00d7ff; text-decoration-color: #00d7ff\">None</span>, <span style=\"color: #00af00; text-decoration-color: #00af00\">7</span>, <span style=\"color: #00af00; text-decoration-color: #00af00\">7</span>, <span style=\"color: #00af00; text-decoration-color: #00af00\">4</span>)        │             <span style=\"color: #00af00; text-decoration-color: #00af00\">0</span> │\n",
              "│ (<span style=\"color: #0087ff; text-decoration-color: #0087ff\">ResidualVectorQuantizer</span>)       │                        │               │\n",
              "├─────────────────────────────────┼────────────────────────┼───────────────┤\n",
              "│ decoder (<span style=\"color: #0087ff; text-decoration-color: #0087ff\">Functional</span>)            │ (<span style=\"color: #00d7ff; text-decoration-color: #00d7ff\">None</span>, <span style=\"color: #00af00; text-decoration-color: #00af00\">28</span>, <span style=\"color: #00af00; text-decoration-color: #00af00\">28</span>, <span style=\"color: #00af00; text-decoration-color: #00af00\">1</span>)      │        <span style=\"color: #00af00; text-decoration-color: #00af00\">21,121</span> │\n",
              "└─────────────────────────────────┴────────────────────────┴───────────────┘\n",
              "</pre>\n"
            ],
            "text/plain": [
              "┏━━━━━━━━━━━━━━━━━━━━━━━━━━━━━━━━━┳━━━━━━━━━━━━━━━━━━━━━━━━┳━━━━━━━━━━━━━━━┓\n",
              "┃\u001b[1m \u001b[0m\u001b[1mLayer (type)                   \u001b[0m\u001b[1m \u001b[0m┃\u001b[1m \u001b[0m\u001b[1mOutput Shape          \u001b[0m\u001b[1m \u001b[0m┃\u001b[1m \u001b[0m\u001b[1m      Param #\u001b[0m\u001b[1m \u001b[0m┃\n",
              "┡━━━━━━━━━━━━━━━━━━━━━━━━━━━━━━━━━╇━━━━━━━━━━━━━━━━━━━━━━━━╇━━━━━━━━━━━━━━━┩\n",
              "│ input_layer_3 (\u001b[38;5;33mInputLayer\u001b[0m)      │ (\u001b[38;5;45mNone\u001b[0m, \u001b[38;5;34m28\u001b[0m, \u001b[38;5;34m28\u001b[0m, \u001b[38;5;34m1\u001b[0m)      │             \u001b[38;5;34m0\u001b[0m │\n",
              "├─────────────────────────────────┼────────────────────────┼───────────────┤\n",
              "│ encoder (\u001b[38;5;33mFunctional\u001b[0m)            │ (\u001b[38;5;45mNone\u001b[0m, \u001b[38;5;34m7\u001b[0m, \u001b[38;5;34m7\u001b[0m, \u001b[38;5;34m4\u001b[0m)        │        \u001b[38;5;34m19,076\u001b[0m │\n",
              "├─────────────────────────────────┼────────────────────────┼───────────────┤\n",
              "│ vector_quantizer                │ (\u001b[38;5;45mNone\u001b[0m, \u001b[38;5;34m7\u001b[0m, \u001b[38;5;34m7\u001b[0m, \u001b[38;5;34m4\u001b[0m)        │             \u001b[38;5;34m0\u001b[0m │\n",
              "│ (\u001b[38;5;33mResidualVectorQuantizer\u001b[0m)       │                        │               │\n",
              "├─────────────────────────────────┼────────────────────────┼───────────────┤\n",
              "│ decoder (\u001b[38;5;33mFunctional\u001b[0m)            │ (\u001b[38;5;45mNone\u001b[0m, \u001b[38;5;34m28\u001b[0m, \u001b[38;5;34m28\u001b[0m, \u001b[38;5;34m1\u001b[0m)      │        \u001b[38;5;34m21,121\u001b[0m │\n",
              "└─────────────────────────────────┴────────────────────────┴───────────────┘\n"
            ]
          },
          "metadata": {},
          "output_type": "display_data"
        },
        {
          "data": {
            "text/html": [
              "<pre style=\"white-space:pre;overflow-x:auto;line-height:normal;font-family:Menlo,'DejaVu Sans Mono',consolas,'Courier New',monospace\"><span style=\"font-weight: bold\"> Total params: </span><span style=\"color: #00af00; text-decoration-color: #00af00\">40,197</span> (157.02 KB)\n",
              "</pre>\n"
            ],
            "text/plain": [
              "\u001b[1m Total params: \u001b[0m\u001b[38;5;34m40,197\u001b[0m (157.02 KB)\n"
            ]
          },
          "metadata": {},
          "output_type": "display_data"
        },
        {
          "data": {
            "text/html": [
              "<pre style=\"white-space:pre;overflow-x:auto;line-height:normal;font-family:Menlo,'DejaVu Sans Mono',consolas,'Courier New',monospace\"><span style=\"font-weight: bold\"> Trainable params: </span><span style=\"color: #00af00; text-decoration-color: #00af00\">40,197</span> (157.02 KB)\n",
              "</pre>\n"
            ],
            "text/plain": [
              "\u001b[1m Trainable params: \u001b[0m\u001b[38;5;34m40,197\u001b[0m (157.02 KB)\n"
            ]
          },
          "metadata": {},
          "output_type": "display_data"
        },
        {
          "data": {
            "text/html": [
              "<pre style=\"white-space:pre;overflow-x:auto;line-height:normal;font-family:Menlo,'DejaVu Sans Mono',consolas,'Courier New',monospace\"><span style=\"font-weight: bold\"> Non-trainable params: </span><span style=\"color: #00af00; text-decoration-color: #00af00\">0</span> (0.00 B)\n",
              "</pre>\n"
            ],
            "text/plain": [
              "\u001b[1m Non-trainable params: \u001b[0m\u001b[38;5;34m0\u001b[0m (0.00 B)\n"
            ]
          },
          "metadata": {},
          "output_type": "display_data"
        }
      ],
      "source": [
        "\n",
        "def get_vqvae(latent_dim=4, num_embeddings=64,num_quantizers =2):\n",
        "    rvq_layer = ResidualVectorQuantizer(num_embeddings, latent_dim,num_quantizers, name=\"vector_quantizer\")\n",
        "    encoder = get_encoder(latent_dim)\n",
        "    decoder = get_decoder(latent_dim)\n",
        "    inputs = keras.Input(shape=(28, 28, 1))\n",
        "    encoder_outputs = encoder(inputs)\n",
        "    quantized_latents = rvq_layer(encoder_outputs)\n",
        "    reconstructions = decoder(quantized_latents)\n",
        "    return keras.Model(inputs, reconstructions, name=\"rvq_vae\")\n",
        "\n",
        "get_vqvae().summary()"
      ]
    },
    {
      "cell_type": "markdown",
      "metadata": {
        "id": "vwzLMWy6UUh3"
      },
      "source": [
        "## Wrapping up the training loop inside `RVQVAETrainer`"
      ]
    },
    {
      "cell_type": "code",
      "execution_count": 5,
      "metadata": {
        "id": "QbfBDo8iUUh3"
      },
      "outputs": [],
      "source": [
        "\n",
        "class RVQVAETrainer(keras.models.Model):\n",
        "    def __init__(self, train_variance, latent_dim=32, num_embeddings=128, num_quantizers = 2,**kwargs):\n",
        "        super().__init__(**kwargs)\n",
        "        self.train_variance = train_variance\n",
        "        self.latent_dim = latent_dim\n",
        "        self.num_embeddings = num_embeddings\n",
        "        self.num_quantizers = num_quantizers\n",
        "\n",
        "        self.rvqvae = get_vqvae(self.latent_dim, self.num_embeddings, self.num_quantizers)\n",
        "\n",
        "        self.total_loss_tracker = keras.metrics.Mean(name=\"total_loss\")\n",
        "        self.reconstruction_loss_tracker = keras.metrics.Mean(\n",
        "            name=\"reconstruction_loss\"\n",
        "        )\n",
        "        self.rvq_loss_tracker = keras.metrics.Mean(name=\"rvq_loss\")\n",
        "\n",
        "    @property\n",
        "    def metrics(self):\n",
        "        return [\n",
        "            self.total_loss_tracker,\n",
        "            self.reconstruction_loss_tracker,\n",
        "            self.rvq_loss_tracker,\n",
        "        ]\n",
        "\n",
        "    def train_step(self, x):\n",
        "        with tf.GradientTape() as tape:\n",
        "            # Outputs from the VQ-VAE.\n",
        "            reconstructions = self.rvqvae(x)\n",
        "\n",
        "            # Calculate the losses.\n",
        "            reconstruction_loss = (\n",
        "                tf.reduce_mean((x - reconstructions) ** 2) / self.train_variance\n",
        "            )\n",
        "            total_loss = reconstruction_loss + sum(self.rvqvae.losses)\n",
        "\n",
        "        # Backpropagation.\n",
        "        grads = tape.gradient(total_loss, self.rvqvae.trainable_variables)\n",
        "        self.optimizer.apply_gradients(zip(grads, self.rvqvae.trainable_variables))\n",
        "\n",
        "        # Loss tracking.\n",
        "        self.total_loss_tracker.update_state(total_loss)\n",
        "        self.reconstruction_loss_tracker.update_state(reconstruction_loss)\n",
        "        self.rvq_loss_tracker.update_state(sum(self.rvqvae.losses))\n",
        "\n",
        "        # Log results.\n",
        "        return {\n",
        "            \"loss\": self.total_loss_tracker.result(),\n",
        "            \"reconstruction_loss\": self.reconstruction_loss_tracker.result(),\n",
        "            \"rvqvae_loss\": self.rvq_loss_tracker.result(),\n",
        "        }\n"
      ]
    },
    {
      "cell_type": "markdown",
      "metadata": {
        "id": "ex5ljEADUUh4"
      },
      "source": [
        "## Load and preprocess the MNIST dataset"
      ]
    },
    {
      "cell_type": "code",
      "execution_count": 6,
      "metadata": {
        "colab": {
          "base_uri": "https://localhost:8080/"
        },
        "id": "ST-R9nMNUUh4",
        "outputId": "bc130232-e750-4370-c910-7e9b9848418d"
      },
      "outputs": [],
      "source": [
        "(x_train, _), (x_test, _) = keras.datasets.mnist.load_data()\n",
        "\n",
        "x_train = np.expand_dims(x_train, -1)\n",
        "x_test = np.expand_dims(x_test, -1)\n",
        "x_train_scaled = (x_train / 255.0) - 0.5\n",
        "x_test_scaled = (x_test / 255.0) - 0.5\n",
        "\n",
        "data_variance = np.var(x_train / 255.0)"
      ]
    },
    {
      "cell_type": "markdown",
      "metadata": {
        "id": "_C2aF4jXUUh4"
      },
      "source": [
        "## Train the VQ-VAE model"
      ]
    },
    {
      "cell_type": "code",
      "execution_count": 387,
      "metadata": {
        "colab": {
          "base_uri": "https://localhost:8080/"
        },
        "id": "P5on6YX9UUh4",
        "outputId": "70b0de92-1b0b-4274-e3fb-fa90c602f212"
      },
      "outputs": [
        {
          "name": "stdout",
          "output_type": "stream",
          "text": [
            "Epoch 1/50\n",
            "\u001b[1m469/469\u001b[0m \u001b[32m━━━━━━━━━━━━━━━━━━━━\u001b[0m\u001b[37m\u001b[0m \u001b[1m21s\u001b[0m 42ms/step - loss: 63.3384 - reconstruction_loss: 0.6546 - rvqvae_loss: 62.6838\n",
            "Epoch 2/50\n",
            "\u001b[1m469/469\u001b[0m \u001b[32m━━━━━━━━━━━━━━━━━━━━\u001b[0m\u001b[37m\u001b[0m \u001b[1m21s\u001b[0m 44ms/step - loss: 263.3599 - reconstruction_loss: 0.1090 - rvqvae_loss: 263.2510\n",
            "Epoch 3/50\n",
            "\u001b[1m469/469\u001b[0m \u001b[32m━━━━━━━━━━━━━━━━━━━━\u001b[0m\u001b[37m\u001b[0m \u001b[1m26s\u001b[0m 56ms/step - loss: 234.0476 - reconstruction_loss: 0.0864 - rvqvae_loss: 233.9612\n",
            "Epoch 4/50\n",
            "\u001b[1m469/469\u001b[0m \u001b[32m━━━━━━━━━━━━━━━━━━━━\u001b[0m\u001b[37m\u001b[0m \u001b[1m31s\u001b[0m 65ms/step - loss: 238.2285 - reconstruction_loss: 0.0800 - rvqvae_loss: 238.1484\n",
            "Epoch 5/50\n",
            "\u001b[1m469/469\u001b[0m \u001b[32m━━━━━━━━━━━━━━━━━━━━\u001b[0m\u001b[37m\u001b[0m \u001b[1m31s\u001b[0m 65ms/step - loss: 248.0072 - reconstruction_loss: 0.0740 - rvqvae_loss: 247.9333\n",
            "Epoch 6/50\n",
            "\u001b[1m469/469\u001b[0m \u001b[32m━━━━━━━━━━━━━━━━━━━━\u001b[0m\u001b[37m\u001b[0m \u001b[1m43s\u001b[0m 70ms/step - loss: 250.5705 - reconstruction_loss: 0.0704 - rvqvae_loss: 250.5000\n",
            "Epoch 7/50\n",
            "\u001b[1m469/469\u001b[0m \u001b[32m━━━━━━━━━━━━━━━━━━━━\u001b[0m\u001b[37m\u001b[0m \u001b[1m33s\u001b[0m 70ms/step - loss: 241.0984 - reconstruction_loss: 0.0678 - rvqvae_loss: 241.0306\n",
            "Epoch 8/50\n",
            "\u001b[1m469/469\u001b[0m \u001b[32m━━━━━━━━━━━━━━━━━━━━\u001b[0m\u001b[37m\u001b[0m \u001b[1m32s\u001b[0m 68ms/step - loss: 252.0079 - reconstruction_loss: 0.0669 - rvqvae_loss: 251.9411\n",
            "Epoch 9/50\n",
            "\u001b[1m469/469\u001b[0m \u001b[32m━━━━━━━━━━━━━━━━━━━━\u001b[0m\u001b[37m\u001b[0m \u001b[1m31s\u001b[0m 67ms/step - loss: 261.7375 - reconstruction_loss: 0.0656 - rvqvae_loss: 261.6719\n",
            "Epoch 10/50\n",
            "\u001b[1m469/469\u001b[0m \u001b[32m━━━━━━━━━━━━━━━━━━━━\u001b[0m\u001b[37m\u001b[0m \u001b[1m31s\u001b[0m 66ms/step - loss: 275.0065 - reconstruction_loss: 0.0660 - rvqvae_loss: 274.9406\n",
            "Epoch 11/50\n",
            "\u001b[1m469/469\u001b[0m \u001b[32m━━━━━━━━━━━━━━━━━━━━\u001b[0m\u001b[37m\u001b[0m \u001b[1m31s\u001b[0m 65ms/step - loss: 270.2771 - reconstruction_loss: 0.0643 - rvqvae_loss: 270.2128\n",
            "Epoch 12/50\n",
            "\u001b[1m469/469\u001b[0m \u001b[32m━━━━━━━━━━━━━━━━━━━━\u001b[0m\u001b[37m\u001b[0m \u001b[1m32s\u001b[0m 67ms/step - loss: 268.7755 - reconstruction_loss: 0.0630 - rvqvae_loss: 268.7125\n",
            "Epoch 13/50\n",
            "\u001b[1m469/469\u001b[0m \u001b[32m━━━━━━━━━━━━━━━━━━━━\u001b[0m\u001b[37m\u001b[0m \u001b[1m31s\u001b[0m 66ms/step - loss: 272.6436 - reconstruction_loss: 0.0621 - rvqvae_loss: 272.5815\n",
            "Epoch 14/50\n",
            "\u001b[1m469/469\u001b[0m \u001b[32m━━━━━━━━━━━━━━━━━━━━\u001b[0m\u001b[37m\u001b[0m \u001b[1m32s\u001b[0m 67ms/step - loss: 260.2754 - reconstruction_loss: 0.0609 - rvqvae_loss: 260.2145\n",
            "Epoch 15/50\n",
            "\u001b[1m469/469\u001b[0m \u001b[32m━━━━━━━━━━━━━━━━━━━━\u001b[0m\u001b[37m\u001b[0m \u001b[1m33s\u001b[0m 70ms/step - loss: 360.6935 - reconstruction_loss: 0.0783 - rvqvae_loss: 360.6152\n",
            "Epoch 16/50\n",
            "\u001b[1m469/469\u001b[0m \u001b[32m━━━━━━━━━━━━━━━━━━━━\u001b[0m\u001b[37m\u001b[0m \u001b[1m32s\u001b[0m 69ms/step - loss: 284.9486 - reconstruction_loss: 0.0622 - rvqvae_loss: 284.8863\n",
            "Epoch 17/50\n",
            "\u001b[1m469/469\u001b[0m \u001b[32m━━━━━━━━━━━━━━━━━━━━\u001b[0m\u001b[37m\u001b[0m \u001b[1m33s\u001b[0m 70ms/step - loss: 268.8003 - reconstruction_loss: 0.0604 - rvqvae_loss: 268.7398\n",
            "Epoch 18/50\n",
            "\u001b[1m469/469\u001b[0m \u001b[32m━━━━━━━━━━━━━━━━━━━━\u001b[0m\u001b[37m\u001b[0m \u001b[1m32s\u001b[0m 68ms/step - loss: 263.3604 - reconstruction_loss: 0.0597 - rvqvae_loss: 263.3007\n",
            "Epoch 19/50\n",
            "\u001b[1m469/469\u001b[0m \u001b[32m━━━━━━━━━━━━━━━━━━━━\u001b[0m\u001b[37m\u001b[0m \u001b[1m32s\u001b[0m 67ms/step - loss: 270.5714 - reconstruction_loss: 0.0607 - rvqvae_loss: 270.5105\n",
            "Epoch 20/50\n",
            "\u001b[1m469/469\u001b[0m \u001b[32m━━━━━━━━━━━━━━━━━━━━\u001b[0m\u001b[37m\u001b[0m \u001b[1m33s\u001b[0m 71ms/step - loss: 263.1375 - reconstruction_loss: 0.0591 - rvqvae_loss: 263.0784\n",
            "Epoch 21/50\n",
            "\u001b[1m469/469\u001b[0m \u001b[32m━━━━━━━━━━━━━━━━━━━━\u001b[0m\u001b[37m\u001b[0m \u001b[1m42s\u001b[0m 91ms/step - loss: 270.0993 - reconstruction_loss: 0.0599 - rvqvae_loss: 270.0395\n",
            "Epoch 22/50\n",
            "\u001b[1m469/469\u001b[0m \u001b[32m━━━━━━━━━━━━━━━━━━━━\u001b[0m\u001b[37m\u001b[0m \u001b[1m32s\u001b[0m 68ms/step - loss: 267.6395 - reconstruction_loss: 0.0589 - rvqvae_loss: 267.5806\n",
            "Epoch 23/50\n",
            "\u001b[1m469/469\u001b[0m \u001b[32m━━━━━━━━━━━━━━━━━━━━\u001b[0m\u001b[37m\u001b[0m \u001b[1m32s\u001b[0m 68ms/step - loss: 266.3510 - reconstruction_loss: 0.0585 - rvqvae_loss: 266.2925\n",
            "Epoch 24/50\n",
            "\u001b[1m469/469\u001b[0m \u001b[32m━━━━━━━━━━━━━━━━━━━━\u001b[0m\u001b[37m\u001b[0m \u001b[1m32s\u001b[0m 68ms/step - loss: 261.5974 - reconstruction_loss: 0.0581 - rvqvae_loss: 261.5393\n",
            "Epoch 25/50\n",
            "\u001b[1m469/469\u001b[0m \u001b[32m━━━━━━━━━━━━━━━━━━━━\u001b[0m\u001b[37m\u001b[0m \u001b[1m32s\u001b[0m 68ms/step - loss: 262.5911 - reconstruction_loss: 0.0578 - rvqvae_loss: 262.5333\n",
            "Epoch 26/50\n",
            "\u001b[1m469/469\u001b[0m \u001b[32m━━━━━━━━━━━━━━━━━━━━\u001b[0m\u001b[37m\u001b[0m \u001b[1m40s\u001b[0m 65ms/step - loss: 270.5957 - reconstruction_loss: 0.0582 - rvqvae_loss: 270.5375\n",
            "Epoch 27/50\n",
            "\u001b[1m469/469\u001b[0m \u001b[32m━━━━━━━━━━━━━━━━━━━━\u001b[0m\u001b[37m\u001b[0m \u001b[1m32s\u001b[0m 69ms/step - loss: 282.3719 - reconstruction_loss: 0.0586 - rvqvae_loss: 282.3133\n",
            "Epoch 28/50\n",
            "\u001b[1m469/469\u001b[0m \u001b[32m━━━━━━━━━━━━━━━━━━━━\u001b[0m\u001b[37m\u001b[0m \u001b[1m34s\u001b[0m 72ms/step - loss: 285.2260 - reconstruction_loss: 0.0584 - rvqvae_loss: 285.1676\n",
            "Epoch 29/50\n",
            "\u001b[1m469/469\u001b[0m \u001b[32m━━━━━━━━━━━━━━━━━━━━\u001b[0m\u001b[37m\u001b[0m \u001b[1m38s\u001b[0m 66ms/step - loss: 286.7721 - reconstruction_loss: 0.0580 - rvqvae_loss: 286.7141\n",
            "Epoch 30/50\n",
            "\u001b[1m469/469\u001b[0m \u001b[32m━━━━━━━━━━━━━━━━━━━━\u001b[0m\u001b[37m\u001b[0m \u001b[1m33s\u001b[0m 71ms/step - loss: 289.7923 - reconstruction_loss: 0.0578 - rvqvae_loss: 289.7346\n",
            "Epoch 31/50\n",
            "\u001b[1m469/469\u001b[0m \u001b[32m━━━━━━━━━━━━━━━━━━━━\u001b[0m\u001b[37m\u001b[0m \u001b[1m33s\u001b[0m 71ms/step - loss: 299.4254 - reconstruction_loss: 0.0590 - rvqvae_loss: 299.3665\n",
            "Epoch 32/50\n",
            "\u001b[1m469/469\u001b[0m \u001b[32m━━━━━━━━━━━━━━━━━━━━\u001b[0m\u001b[37m\u001b[0m \u001b[1m34s\u001b[0m 72ms/step - loss: 286.1774 - reconstruction_loss: 0.0566 - rvqvae_loss: 286.1208\n",
            "Epoch 33/50\n",
            "\u001b[1m469/469\u001b[0m \u001b[32m━━━━━━━━━━━━━━━━━━━━\u001b[0m\u001b[37m\u001b[0m \u001b[1m36s\u001b[0m 77ms/step - loss: 285.6423 - reconstruction_loss: 0.0563 - rvqvae_loss: 285.5861\n",
            "Epoch 34/50\n",
            "\u001b[1m469/469\u001b[0m \u001b[32m━━━━━━━━━━━━━━━━━━━━\u001b[0m\u001b[37m\u001b[0m \u001b[1m34s\u001b[0m 72ms/step - loss: 286.9616 - reconstruction_loss: 0.0560 - rvqvae_loss: 286.9058\n",
            "Epoch 35/50\n",
            "\u001b[1m469/469\u001b[0m \u001b[32m━━━━━━━━━━━━━━━━━━━━\u001b[0m\u001b[37m\u001b[0m \u001b[1m42s\u001b[0m 90ms/step - loss: 295.2224 - reconstruction_loss: 0.0562 - rvqvae_loss: 295.1663\n",
            "Epoch 36/50\n",
            "\u001b[1m469/469\u001b[0m \u001b[32m━━━━━━━━━━━━━━━━━━━━\u001b[0m\u001b[37m\u001b[0m \u001b[1m40s\u001b[0m 86ms/step - loss: 298.9399 - reconstruction_loss: 0.0558 - rvqvae_loss: 298.8842\n",
            "Epoch 37/50\n",
            "\u001b[1m469/469\u001b[0m \u001b[32m━━━━━━━━━━━━━━━━━━━━\u001b[0m\u001b[37m\u001b[0m \u001b[1m41s\u001b[0m 86ms/step - loss: 298.1854 - reconstruction_loss: 0.0557 - rvqvae_loss: 298.1297\n",
            "Epoch 38/50\n",
            "\u001b[1m469/469\u001b[0m \u001b[32m━━━━━━━━━━━━━━━━━━━━\u001b[0m\u001b[37m\u001b[0m \u001b[1m40s\u001b[0m 86ms/step - loss: 299.8737 - reconstruction_loss: 0.0556 - rvqvae_loss: 299.8181\n",
            "Epoch 39/50\n",
            "\u001b[1m469/469\u001b[0m \u001b[32m━━━━━━━━━━━━━━━━━━━━\u001b[0m\u001b[37m\u001b[0m \u001b[1m43s\u001b[0m 91ms/step - loss: 296.7287 - reconstruction_loss: 0.0554 - rvqvae_loss: 296.6733\n",
            "Epoch 40/50\n",
            "\u001b[1m469/469\u001b[0m \u001b[32m━━━━━━━━━━━━━━━━━━━━\u001b[0m\u001b[37m\u001b[0m \u001b[1m42s\u001b[0m 90ms/step - loss: 297.7025 - reconstruction_loss: 0.0553 - rvqvae_loss: 297.6472\n",
            "Epoch 41/50\n",
            "\u001b[1m469/469\u001b[0m \u001b[32m━━━━━━━━━━━━━━━━━━━━\u001b[0m\u001b[37m\u001b[0m \u001b[1m41s\u001b[0m 88ms/step - loss: 299.5550 - reconstruction_loss: 0.0553 - rvqvae_loss: 299.4997\n",
            "Epoch 42/50\n",
            "\u001b[1m469/469\u001b[0m \u001b[32m━━━━━━━━━━━━━━━━━━━━\u001b[0m\u001b[37m\u001b[0m \u001b[1m42s\u001b[0m 89ms/step - loss: 300.5546 - reconstruction_loss: 0.0552 - rvqvae_loss: 300.4995\n",
            "Epoch 43/50\n",
            "\u001b[1m469/469\u001b[0m \u001b[32m━━━━━━━━━━━━━━━━━━━━\u001b[0m\u001b[37m\u001b[0m \u001b[1m43s\u001b[0m 91ms/step - loss: 303.6579 - reconstruction_loss: 0.0552 - rvqvae_loss: 303.6028\n",
            "Epoch 44/50\n",
            "\u001b[1m469/469\u001b[0m \u001b[32m━━━━━━━━━━━━━━━━━━━━\u001b[0m\u001b[37m\u001b[0m \u001b[1m41s\u001b[0m 87ms/step - loss: 301.2667 - reconstruction_loss: 0.0549 - rvqvae_loss: 301.2118\n",
            "Epoch 45/50\n",
            "\u001b[1m469/469\u001b[0m \u001b[32m━━━━━━━━━━━━━━━━━━━━\u001b[0m\u001b[37m\u001b[0m \u001b[1m41s\u001b[0m 86ms/step - loss: 302.5219 - reconstruction_loss: 0.0547 - rvqvae_loss: 302.4673\n",
            "Epoch 46/50\n",
            "\u001b[1m469/469\u001b[0m \u001b[32m━━━━━━━━━━━━━━━━━━━━\u001b[0m\u001b[37m\u001b[0m \u001b[1m41s\u001b[0m 87ms/step - loss: 300.0418 - reconstruction_loss: 0.0541 - rvqvae_loss: 299.9877\n",
            "Epoch 47/50\n",
            "\u001b[1m469/469\u001b[0m \u001b[32m━━━━━━━━━━━━━━━━━━━━\u001b[0m\u001b[37m\u001b[0m \u001b[1m41s\u001b[0m 86ms/step - loss: 298.6837 - reconstruction_loss: 0.0537 - rvqvae_loss: 298.6299\n",
            "Epoch 48/50\n",
            "\u001b[1m469/469\u001b[0m \u001b[32m━━━━━━━━━━━━━━━━━━━━\u001b[0m\u001b[37m\u001b[0m \u001b[1m41s\u001b[0m 86ms/step - loss: 300.2775 - reconstruction_loss: 0.0536 - rvqvae_loss: 300.2238\n",
            "Epoch 49/50\n",
            "\u001b[1m469/469\u001b[0m \u001b[32m━━━━━━━━━━━━━━━━━━━━\u001b[0m\u001b[37m\u001b[0m \u001b[1m41s\u001b[0m 87ms/step - loss: 304.2102 - reconstruction_loss: 0.0534 - rvqvae_loss: 304.1567\n",
            "Epoch 50/50\n",
            "\u001b[1m469/469\u001b[0m \u001b[32m━━━━━━━━━━━━━━━━━━━━\u001b[0m\u001b[37m\u001b[0m \u001b[1m41s\u001b[0m 87ms/step - loss: 304.0524 - reconstruction_loss: 0.0529 - rvqvae_loss: 303.9994\n"
          ]
        }
      ],
      "source": [
        "num_quant = 1\n",
        "vqvae_trainer = RVQVAETrainer(data_variance, latent_dim=16, num_embeddings=512, num_quantizers = num_quant)\n",
        "vqvae_trainer.compile(optimizer=keras.optimizers.Adam())\n",
        "history = vqvae_trainer.fit(x_train_scaled, epochs=50, batch_size=128)"
      ]
    },
    {
      "cell_type": "markdown",
      "metadata": {
        "id": "1NaPvlpeUUh5"
      },
      "source": [
        "## Reconstruction results on the test set"
      ]
    },
    {
      "cell_type": "code",
      "execution_count": 388,
      "metadata": {
        "id": "-HsHZ60qUUh5"
      },
      "outputs": [
        {
          "name": "stdout",
          "output_type": "stream",
          "text": [
            "\u001b[1m32/32\u001b[0m \u001b[32m━━━━━━━━━━━━━━━━━━━━\u001b[0m\u001b[37m\u001b[0m \u001b[1m2s\u001b[0m 36ms/step\n"
          ]
        }
      ],
      "source": [
        "\n",
        "def show_subplot(original, reconstructed):\n",
        "    plt.subplot(1, 2, 1)\n",
        "    plt.imshow(original.squeeze() + 0.5)\n",
        "    plt.title(\"Original\")\n",
        "    plt.axis(\"off\")\n",
        "\n",
        "    plt.subplot(1, 2, 2)\n",
        "    plt.imshow(reconstructed.squeeze() + 0.5)\n",
        "    plt.title(\"Reconstructed\")\n",
        "    plt.axis(\"off\")\n",
        "\n",
        "    plt.show()\n",
        "\n",
        "samples = 3\n",
        "trained_vqvae_model = vqvae_trainer.rvqvae\n",
        "idx = np.random.choice(len(x_test_scaled), 10000)\n",
        "test_images = x_test_scaled[idx]\n",
        "test_images_sub = test_images[:1000]\n",
        "reconstructions_test = trained_vqvae_model.predict(test_images_sub)\n",
        "\n",
        "#for test_image, reconstructed_image in zip(test_images_sub, reconstructions_test):\n",
        " #   show_subplot(test_image, reconstructed_image)\n"
      ]
    },
    {
      "cell_type": "markdown",
      "metadata": {
        "id": "X9JBu8GgUUh5"
      },
      "source": [
        "## Visualizing the discrete codes"
      ]
    },
    {
      "cell_type": "markdown",
      "metadata": {},
      "source": [
        "Loading image"
      ]
    },
    {
      "cell_type": "code",
      "execution_count": 273,
      "metadata": {},
      "outputs": [
        {
          "data": {
            "image/png": "[encoded data removed]",
            "text/plain": [
              "<Figure size 640x480 with 1 Axes>"
            ]
          },
          "metadata": {},
          "output_type": "display_data"
        },
        {
          "data": {
            "text/plain": [
              "(1, 28, 28, 1)"
            ]
          },
          "execution_count": 273,
          "metadata": {},
          "output_type": "execute_result"
        }
      ],
      "source": [
        "\n",
        "# Load the image in grayscale (0 means grayscale)\n",
        "image = cv2.imread(r'E:\\Second Term\\Gen AI\\Project\\mnist_random_image.png', cv2.IMREAD_GRAYSCALE)\n",
        "image = image/255 -0.5\n",
        "expanded_image = np.expand_dims(image, axis=0)  # Shape becomes (1, 28, 28)\n",
        "expanded_image = np.expand_dims(expanded_image, axis=-1)  # Shape becomes (1, 28, 28, 1)\n",
        "\n",
        "# Display the image using matplotlib\n",
        "plt.imshow(image, cmap='gray')\n",
        "plt.axis('off')  # Turn off axis labels\n",
        "plt.show()\n",
        "np.shape(expanded_image)\n"
      ]
    },
    {
      "cell_type": "code",
      "execution_count": null,
      "metadata": {
        "id": "OYwGaSXqUUh5"
      },
      "outputs": [
        {
          "name": "stdout",
          "output_type": "stream",
          "text": [
            "\u001b[1m1/1\u001b[0m \u001b[32m━━━━━━━━━━━━━━━━━━━━\u001b[0m\u001b[37m\u001b[0m \u001b[1m0s\u001b[0m 62ms/step\n",
            "Error at quantization stage 1 (L2 norm): 2.193547248840332\n",
            "Error at quantization stage 2 (L2 norm): 2.135688543319702\n",
            "Error at quantization stage 3 (L2 norm): 2.0877902507781982\n",
            "Error at quantization stage 4 (L2 norm): 2.061457633972168\n"
          ]
        },
        {
          "data": {
            "image/png": "[encoded data removed]",
            "text/plain": [
              "<Figure size 1200x600 with 5 Axes>"
            ]
          },
          "metadata": {},
          "output_type": "display_data"
        },
        {
          "data": {
            "image/png": "[encoded data removed]",
            "text/plain": [
              "<Figure size 1200x600 with 5 Axes>"
            ]
          },
          "metadata": {},
          "output_type": "display_data"
        },
        {
          "data": {
            "image/png": "[encoded data removed]",
            "text/plain": [
              "<Figure size 1200x600 with 5 Axes>"
            ]
          },
          "metadata": {},
          "output_type": "display_data"
        }
      ],
      "source": [
        "import tensorflow as tf\n",
        "import matplotlib.pyplot as plt\n",
        "\n",
        "# Get the encoder and vector quantizer layers\n",
        "encoder = vqvae_trainer.rvqvae.get_layer(\"encoder\")\n",
        "quantizer = vqvae_trainer.rvqvae.get_layer(\"vector_quantizer\")\n",
        "\n",
        "\n",
        "num_random_images = 1\n",
        "random_indices = np.random.choice(test_images.shape[0], num_random_images, replace=False)\n",
        "\n",
        "#test_images_subset = test_images[random_indices]\n",
        "test_images_subset = test_images[:3]\n",
        "\n",
        "encoded_outputs = encoder.predict(test_images_subset)  \n",
        "batch_size, height, width, channels = encoded_outputs.shape\n",
        "flat_enc_outputs = encoded_outputs.reshape(batch_size * height * width, channels)\n",
        "\n",
        "all_quantized_outputs = []\n",
        "\n",
        "residual = flat_enc_outputs\n",
        "for i in range(quantizer.num_quantizers):\n",
        "    embedding_matrix = quantizer.embeddings[i] \n",
        "    \n",
        "    codebook_indices = quantizer.get_code_indices(residual, embedding_matrix)\n",
        "    \n",
        "    encodings = tf.one_hot(codebook_indices, quantizer.num_embeddings)\n",
        "    quantized = tf.matmul(encodings, embedding_matrix, transpose_b=True)\n",
        "    \n",
        "    all_quantized_outputs.append(quantized.numpy().reshape(batch_size, height, width, channels))\n",
        "\n",
        "    residual -= quantized\n",
        "    \n",
        "    error = tf.norm(residual, axis=-1)  \n",
        "    error_value = tf.reduce_mean(error).numpy()  \n",
        "    print(f\"Error at quantization stage {i + 1} (L2 norm): {error_value}\")\n",
        "\n",
        "\n",
        "# Visualize individual channels from the quantized output\n",
        "for i in range(len(test_images_subset)):\n",
        "    plt.figure(figsize=(12, 6))\n",
        "\n",
        "    # Plot the original image\n",
        "    plt.subplot(1, len(all_quantized_outputs) + 1, 1)\n",
        "    plt.imshow(test_images_subset[i].squeeze() + 0.5, cmap=\"gray\")\n",
        "    plt.title(\"Original\")\n",
        "    plt.axis(\"off\")\n",
        "\n",
        "    # Plot individual channels from the quantized output after each quantization stage\n",
        "    for j, quantized_output in enumerate(all_quantized_outputs):\n",
        "        plt.subplot(1, len(all_quantized_outputs) + 1, j + 2)\n",
        "        plt.imshow(quantized_output[i, :, :, 0], cmap=\"viridis\")  # Show the first channel\n",
        "        plt.title(f\"Quantized Stage {j + 1} \")\n",
        "        plt.axis(\"off\")\n",
        "\n",
        "    plt.show()\n"
      ]
    },
    {
      "cell_type": "code",
      "execution_count": null,
      "metadata": {},
      "outputs": [],
      "source": [
        "import tensorflow as tf\n",
        "import numpy as np\n",
        "\n",
        "def get_quantized_token_indices(test_images, encoder, quantizer):\n",
        "\n",
        "  \n",
        "    encoded_outputs = encoder.predict(test_images)  \n",
        "    batch_size, height, width, channels = encoded_outputs.shape\n",
        "\n",
        "    # Flatten spatial dims\n",
        "    flat_enc_outputs = encoded_outputs.reshape(batch_size * height * width, channels)\n",
        "\n",
        "    # Collect codebook indices at each stage\n",
        "    all_indices = []\n",
        "\n",
        "    residual = flat_enc_outputs\n",
        "    for i in range(quantizer.num_quantizers):\n",
        "        embedding_matrix = quantizer.embeddings[i]\n",
        "        codebook_indices = quantizer.get_code_indices(residual, embedding_matrix)\n",
        "        all_indices.append(codebook_indices.numpy().reshape(batch_size, height * width))\n",
        "        \n",
        "        # Quantized vectors\n",
        "        encodings = tf.one_hot(codebook_indices, quantizer.num_embeddings)\n",
        "        quantized = tf.matmul(encodings, embedding_matrix, transpose_b=True)\n",
        "        \n",
        "        # Residual for next stage\n",
        "        residual -= quantized\n",
        "\n",
        "    quantized_tokens = np.stack(all_indices, axis=-1)  \n",
        "    return quantized_tokens\n"
      ]
    },
    {
      "cell_type": "code",
      "execution_count": null,
      "metadata": {},
      "outputs": [
        {
          "name": "stdout",
          "output_type": "stream",
          "text": [
            "\u001b[1m313/313\u001b[0m \u001b[32m━━━━━━━━━━━━━━━━━━━━\u001b[0m\u001b[37m\u001b[0m \u001b[1m1s\u001b[0m 4ms/step\n",
            "(10000, 49, 1)\n"
          ]
        }
      ],
      "source": [
        "encoder = vqvae_trainer.rvqvae.get_layer(\"encoder\")\n",
        "quantizer = vqvae_trainer.rvqvae.get_layer(\"vector_quantizer\")\n",
        "\n",
        "quantized_tokens = get_quantized_token_indices(test_images, encoder, quantizer)\n",
        "\n",
        "print(quantized_tokens.shape)  "
      ]
    },
    {
      "cell_type": "code",
      "execution_count": null,
      "metadata": {},
      "outputs": [],
      "source": [
        "from rq_transformer import RQTransformer  \n",
        "\n",
        "rq_transformer = RQTransformer(\n",
        "    num_tokens = quantizer.num_embeddings,  #Number of embdeddings in each quantizer\n",
        "    dim = 512,                              \n",
        "    max_spatial_seq_len = 49,              # matches 7x7 = 49 patches\n",
        "    depth_seq_len = 2,                     # number of quantizers\n",
        "    spatial_layers = 6,                    # number of transformer layers for spatial modeling\n",
        "    depth_layers = 4,                      # number of transformer layers for depth modeling\n",
        "    dim_head = 64,\n",
        "    heads = 8\n",
        ")\n",
        "\n"
      ]
    },
    {
      "cell_type": "code",
      "execution_count": null,
      "metadata": {},
      "outputs": [
        {
          "name": "stdout",
          "output_type": "stream",
          "text": [
            "Epoch 1 - Loss: 0.7422\n",
            "Epoch 2 - Loss: 0.7089\n",
            "Epoch 3 - Loss: 0.7085\n",
            "Epoch 4 - Loss: 0.6432\n",
            "Epoch 5 - Loss: 0.6178\n",
            "Epoch 6 - Loss: 0.6644\n",
            "Epoch 7 - Loss: 0.6102\n",
            "Epoch 8 - Loss: 0.5818\n",
            "Epoch 9 - Loss: 0.5659\n",
            "Epoch 10 - Loss: 0.6051\n",
            "Epoch 11 - Loss: 0.6703\n",
            "Epoch 12 - Loss: 0.6566\n",
            "Epoch 13 - Loss: 0.6230\n",
            "Epoch 14 - Loss: 0.6129\n",
            "Epoch 15 - Loss: 0.5910\n",
            "Epoch 16 - Loss: 0.5555\n",
            "Epoch 17 - Loss: 0.5559\n",
            "Epoch 18 - Loss: 0.5243\n",
            "Epoch 19 - Loss: 0.5507\n",
            "Epoch 20 - Loss: 0.5421\n",
            "Epoch 21 - Loss: 0.5415\n",
            "Epoch 22 - Loss: 0.5336\n",
            "Epoch 23 - Loss: 0.6223\n",
            "Epoch 24 - Loss: 0.7171\n",
            "Epoch 25 - Loss: 0.7709\n",
            "Epoch 26 - Loss: 0.6926\n",
            "Epoch 27 - Loss: 0.7149\n",
            "Epoch 28 - Loss: 0.6216\n",
            "Epoch 29 - Loss: 0.6064\n",
            "Epoch 30 - Loss: 0.5986\n",
            "Epoch 31 - Loss: 0.5603\n",
            "Epoch 32 - Loss: 0.5384\n",
            "Epoch 33 - Loss: 0.5579\n",
            "Epoch 34 - Loss: 0.5219\n",
            "Epoch 35 - Loss: 0.5128\n",
            "Epoch 36 - Loss: 0.5242\n",
            "Epoch 37 - Loss: 0.5098\n",
            "Epoch 38 - Loss: 0.5420\n",
            "Epoch 39 - Loss: 0.5081\n",
            "Epoch 40 - Loss: 0.5290\n",
            "Epoch 41 - Loss: 0.5055\n",
            "Epoch 42 - Loss: 0.5077\n",
            "Epoch 43 - Loss: 0.4955\n",
            "Epoch 44 - Loss: 0.4957\n",
            "Epoch 45 - Loss: 0.5114\n",
            "Epoch 46 - Loss: 0.5152\n",
            "Epoch 47 - Loss: 0.4943\n",
            "Epoch 48 - Loss: 0.5175\n",
            "Epoch 49 - Loss: 0.5173\n",
            "Epoch 50 - Loss: 0.5118\n",
            "Epoch 51 - Loss: 0.4972\n",
            "Epoch 52 - Loss: 0.5017\n",
            "Epoch 53 - Loss: 0.5074\n",
            "Epoch 54 - Loss: 0.5245\n",
            "Epoch 55 - Loss: 0.4992\n",
            "Epoch 56 - Loss: 0.5035\n",
            "Epoch 57 - Loss: 0.5156\n",
            "Epoch 58 - Loss: 0.5255\n",
            "Epoch 59 - Loss: 0.5008\n",
            "Epoch 60 - Loss: 0.5202\n",
            "Epoch 61 - Loss: 0.5123\n",
            "Epoch 62 - Loss: 0.5089\n",
            "Epoch 63 - Loss: 0.4897\n",
            "Epoch 64 - Loss: 0.5031\n",
            "Epoch 65 - Loss: 0.5105\n",
            "Epoch 66 - Loss: 0.4917\n",
            "Epoch 67 - Loss: 0.4949\n",
            "Epoch 68 - Loss: 0.4994\n",
            "Epoch 69 - Loss: 0.5191\n",
            "Epoch 70 - Loss: 0.5310\n",
            "Epoch 71 - Loss: 0.4927\n",
            "Epoch 72 - Loss: 0.4855\n",
            "Epoch 73 - Loss: 0.5121\n",
            "Epoch 74 - Loss: 0.5084\n",
            "Epoch 75 - Loss: 0.5129\n",
            "Epoch 76 - Loss: 0.5049\n",
            "Epoch 77 - Loss: 0.5164\n",
            "Epoch 78 - Loss: 0.5167\n",
            "Epoch 79 - Loss: 0.4992\n",
            "Epoch 80 - Loss: 0.4876\n",
            "Epoch 81 - Loss: 0.4947\n",
            "Epoch 82 - Loss: 0.5076\n",
            "Epoch 83 - Loss: 0.5246\n",
            "Epoch 84 - Loss: 0.5128\n",
            "Epoch 85 - Loss: 0.4911\n",
            "Epoch 86 - Loss: 0.4913\n",
            "Epoch 87 - Loss: 0.4875\n",
            "Epoch 88 - Loss: 0.5273\n",
            "Epoch 89 - Loss: 0.4981\n",
            "Epoch 90 - Loss: 0.4981\n",
            "Epoch 91 - Loss: 0.4984\n",
            "Epoch 92 - Loss: 0.4904\n",
            "Epoch 93 - Loss: 0.4921\n",
            "Epoch 94 - Loss: 0.5175\n",
            "Epoch 95 - Loss: 0.4895\n",
            "Epoch 96 - Loss: 0.4891\n",
            "Epoch 97 - Loss: 0.4895\n",
            "Epoch 98 - Loss: 0.4911\n",
            "Epoch 99 - Loss: 0.4860\n",
            "Epoch 100 - Loss: 0.5048\n",
            "Epoch 101 - Loss: 0.4804\n",
            "Epoch 102 - Loss: 0.5163\n",
            "Epoch 103 - Loss: 0.4833\n",
            "Epoch 104 - Loss: 0.4865\n",
            "Epoch 105 - Loss: 0.4881\n",
            "Epoch 106 - Loss: 0.4987\n",
            "Epoch 107 - Loss: 0.5211\n",
            "Epoch 108 - Loss: 0.5072\n",
            "Epoch 109 - Loss: 0.5130\n",
            "Epoch 110 - Loss: 0.4894\n",
            "Epoch 111 - Loss: 0.4851\n",
            "Epoch 112 - Loss: 0.4847\n",
            "Epoch 113 - Loss: 0.4915\n",
            "Epoch 114 - Loss: 0.5048\n",
            "Epoch 115 - Loss: 0.5007\n",
            "Epoch 116 - Loss: 0.4944\n",
            "Epoch 117 - Loss: 0.4973\n",
            "Epoch 118 - Loss: 0.4837\n",
            "Epoch 119 - Loss: 0.5137\n",
            "Epoch 120 - Loss: 0.5017\n",
            "Epoch 121 - Loss: 0.5194\n",
            "Epoch 122 - Loss: 0.4864\n",
            "Epoch 123 - Loss: 0.4890\n",
            "Epoch 124 - Loss: 0.4992\n",
            "Epoch 125 - Loss: 0.4946\n",
            "Epoch 126 - Loss: 0.4860\n",
            "Epoch 127 - Loss: 0.5089\n",
            "Epoch 128 - Loss: 0.4947\n",
            "Epoch 129 - Loss: 0.5342\n",
            "Epoch 130 - Loss: 0.5005\n",
            "Epoch 131 - Loss: 0.4962\n",
            "Epoch 132 - Loss: 0.4801\n",
            "Epoch 133 - Loss: 0.4879\n",
            "Epoch 134 - Loss: 0.4856\n",
            "Epoch 135 - Loss: 0.4820\n",
            "Epoch 136 - Loss: 0.4845\n",
            "Epoch 137 - Loss: 0.4863\n",
            "Epoch 138 - Loss: 0.4877\n",
            "Epoch 139 - Loss: 0.5121\n",
            "Epoch 140 - Loss: 0.4983\n",
            "Epoch 141 - Loss: 0.4820\n",
            "Epoch 142 - Loss: 0.4856\n",
            "Epoch 143 - Loss: 0.4876\n",
            "Epoch 144 - Loss: 0.4816\n",
            "Epoch 145 - Loss: 0.4941\n",
            "Epoch 146 - Loss: 0.5317\n",
            "Epoch 147 - Loss: 0.4953\n",
            "Epoch 148 - Loss: 0.5124\n",
            "Epoch 149 - Loss: 0.5102\n",
            "Epoch 150 - Loss: 0.5121\n",
            "Epoch 151 - Loss: 0.4706\n",
            "Epoch 152 - Loss: 0.5328\n",
            "Epoch 153 - Loss: 0.4974\n",
            "Epoch 154 - Loss: 0.4748\n",
            "Epoch 155 - Loss: 0.5176\n",
            "Epoch 156 - Loss: 0.4875\n",
            "Epoch 157 - Loss: 0.4977\n",
            "Epoch 158 - Loss: 0.4884\n",
            "Epoch 159 - Loss: 0.5144\n",
            "Epoch 160 - Loss: 0.4854\n",
            "Epoch 161 - Loss: 0.4832\n",
            "Epoch 162 - Loss: 0.4998\n",
            "Epoch 163 - Loss: 0.4982\n",
            "Epoch 164 - Loss: 0.4882\n",
            "Epoch 165 - Loss: 0.4771\n",
            "Epoch 166 - Loss: 0.4814\n",
            "Epoch 167 - Loss: 0.4902\n",
            "Epoch 168 - Loss: 0.4841\n",
            "Epoch 169 - Loss: 0.5360\n",
            "Epoch 170 - Loss: 0.4925\n",
            "Epoch 171 - Loss: 0.4965\n",
            "Epoch 172 - Loss: 0.4906\n",
            "Epoch 173 - Loss: 0.4881\n",
            "Epoch 174 - Loss: 0.4767\n",
            "Epoch 175 - Loss: 0.4979\n",
            "Epoch 176 - Loss: 0.5115\n",
            "Epoch 177 - Loss: 0.5162\n",
            "Epoch 178 - Loss: 0.4777\n",
            "Epoch 179 - Loss: 0.4893\n",
            "Epoch 180 - Loss: 0.4887\n",
            "Epoch 181 - Loss: 0.4970\n",
            "Epoch 182 - Loss: 0.4868\n",
            "Epoch 183 - Loss: 0.4838\n",
            "Epoch 184 - Loss: 0.5044\n",
            "Epoch 185 - Loss: 0.5016\n",
            "Epoch 186 - Loss: 0.4783\n",
            "Epoch 187 - Loss: 0.4950\n",
            "Epoch 188 - Loss: 0.4912\n",
            "Epoch 189 - Loss: 0.4797\n",
            "Epoch 190 - Loss: 0.4770\n",
            "Epoch 191 - Loss: 0.4775\n",
            "Epoch 192 - Loss: 0.4790\n",
            "Epoch 193 - Loss: 0.4808\n",
            "Epoch 194 - Loss: 0.4963\n",
            "Epoch 195 - Loss: 0.4800\n",
            "Epoch 196 - Loss: 0.4771\n",
            "Epoch 197 - Loss: 0.5016\n",
            "Epoch 198 - Loss: 0.4901\n",
            "Epoch 199 - Loss: 0.4846\n",
            "Epoch 200 - Loss: 0.5152\n",
            "Epoch 201 - Loss: 0.4830\n",
            "Epoch 202 - Loss: 0.4859\n",
            "Epoch 203 - Loss: 0.4986\n",
            "Epoch 204 - Loss: 0.4839\n",
            "Epoch 205 - Loss: 0.4742\n",
            "Epoch 206 - Loss: 0.4715\n",
            "Epoch 207 - Loss: 0.4961\n",
            "Epoch 208 - Loss: 0.4892\n",
            "Epoch 209 - Loss: 0.4929\n",
            "Epoch 210 - Loss: 0.5020\n",
            "Epoch 211 - Loss: 0.4801\n",
            "Epoch 212 - Loss: 0.4883\n",
            "Epoch 213 - Loss: 0.4924\n",
            "Epoch 214 - Loss: 0.5017\n",
            "Epoch 215 - Loss: 0.4721\n",
            "Epoch 216 - Loss: 0.5072\n",
            "Epoch 217 - Loss: 0.4784\n",
            "Epoch 218 - Loss: 0.4942\n",
            "Epoch 219 - Loss: 0.4886\n",
            "Epoch 220 - Loss: 0.4747\n",
            "Epoch 221 - Loss: 0.4881\n",
            "Epoch 222 - Loss: 0.4762\n",
            "Epoch 223 - Loss: 0.4887\n",
            "Epoch 224 - Loss: 0.4956\n",
            "Epoch 225 - Loss: 0.4783\n",
            "Epoch 226 - Loss: 0.4786\n",
            "Epoch 227 - Loss: 0.4774\n",
            "Epoch 228 - Loss: 0.5143\n",
            "Epoch 229 - Loss: 0.4663\n",
            "Epoch 230 - Loss: 0.5009\n",
            "Epoch 231 - Loss: 0.4827\n",
            "Epoch 232 - Loss: 0.4951\n",
            "Epoch 233 - Loss: 0.4716\n",
            "Epoch 234 - Loss: 0.4758\n",
            "Epoch 235 - Loss: 0.4926\n",
            "Epoch 236 - Loss: 0.5200\n",
            "Epoch 237 - Loss: 0.4872\n",
            "Epoch 238 - Loss: 0.5163\n",
            "Epoch 239 - Loss: 0.5065\n",
            "Epoch 240 - Loss: 0.4999\n",
            "Epoch 241 - Loss: 0.4950\n",
            "Epoch 242 - Loss: 0.4963\n",
            "Epoch 243 - Loss: 0.5121\n",
            "Epoch 244 - Loss: 0.4916\n",
            "Epoch 245 - Loss: 0.4999\n",
            "Epoch 246 - Loss: 0.4895\n",
            "Epoch 247 - Loss: 0.5102\n",
            "Epoch 248 - Loss: 0.4912\n",
            "Epoch 249 - Loss: 0.4856\n",
            "Epoch 250 - Loss: 0.5156\n"
          ]
        }
      ],
      "source": [
        "import torch\n",
        "from torch.utils.data import TensorDataset, DataLoader\n",
        "\n",
        "tokens = torch.tensor(quantized_tokens[:1000], dtype=torch.long)\n",
        "dataset = TensorDataset(tokens)\n",
        "loader = DataLoader(dataset, batch_size=4, shuffle=True)\n",
        "\n",
        "optimizer = torch.optim.Adam(rq_transformer.parameters(), lr=1e-4)\n",
        "\n",
        "\n",
        "for epoch in range(100):\n",
        "    total_loss = 0\n",
        "    for (x,) in loader:\n",
        "        optimizer.zero_grad()\n",
        "        loss = rq_transformer(x, return_loss=True)\n",
        "        loss.backward()\n",
        "        optimizer.step()\n",
        "        total_loss += loss.item()\n",
        "\n",
        "    print(f\"Epoch {epoch + 1} - Loss: {total_loss:.4f}\")\n"
      ]
    },
    {
      "cell_type": "markdown",
      "metadata": {},
      "source": [
        " ##  Generate tokens from RQ transformer"
      ]
    },
    {
      "cell_type": "code",
      "execution_count": null,
      "metadata": {},
      "outputs": [],
      "source": [
        "batch_size = 100\n",
        "samples = []\n",
        "\n",
        "for i in range(batch_size):\n",
        "    sample = rq_transformer.generate() \n",
        "    samples.append(sample.squeeze(0).cpu().numpy())  \n",
        "    print(i)\n",
        "generated_tokens = np.stack(samples, axis=0) \n"
      ]
    },
    {
      "cell_type": "code",
      "execution_count": null,
      "metadata": {},
      "outputs": [],
      "source": [
        "def transformer_tokens_to_latents_batch(generated_tokens, quantizer):\n",
        "    \"\"\"\n",
        "    Converts RQTransformer-generated token indices (B, 49, 3) into quantized latent tensor (B, 7, 7, latent_dim)\n",
        "    \"\"\"\n",
        "    batch_size, seq_len, num_quantizers = generated_tokens.shape\n",
        "    h = w = int(seq_len ** 0.5)\n",
        "    latent_dim = quantizer.embedding_dim\n",
        "\n",
        "    quantized_latents = np.zeros((batch_size, seq_len, latent_dim), dtype=np.float32)\n",
        "\n",
        "    for i in range(num_quantizers):\n",
        "        codebook = quantizer.embeddings[i].numpy().T  \n",
        "        indices = generated_tokens[:, :, i]  \n",
        "        embeddings = codebook[indices]  \n",
        "        quantized_latents += embeddings\n",
        "\n",
        "    quantized_latents = quantized_latents.reshape(batch_size, h, w, latent_dim)\n",
        "    return quantized_latents\n"
      ]
    },
    {
      "cell_type": "markdown",
      "metadata": {},
      "source": [
        "## View images"
      ]
    },
    {
      "cell_type": "code",
      "execution_count": null,
      "metadata": {},
      "outputs": [],
      "source": [
        "\n",
        "decoder_input = transformer_tokens_to_latents_batch(generated_tok, quantizer)  # (B, 7, 7, 4)\n",
        "decoder_input_tensor = tf.convert_to_tensor(decoder_input, dtype=tf.float32)\n",
        "\n",
        "# Step 2: Decode\n",
        "decoder = vqvae_trainer.rvqvae.get_layer(\"decoder\")\n",
        "generated_images = decoder(decoder_input_tensor)  # (B, 28, 28, 1)\n",
        "\n",
        "# Step 3: Visualize the batch\n",
        "import matplotlib.pyplot as plt\n",
        "\n",
        "for i in range(generated_images):\n",
        "    plt.subplot(1, generated_images, i+1)\n",
        "    plt.imshow(generated_images[i].numpy().squeeze(), cmap='gray')\n",
        "    plt.axis('off')\n",
        "plt.show()\n"
      ]
    },
    {
      "cell_type": "code",
      "execution_count": 327,
      "metadata": {},
      "outputs": [],
      "source": [
        "import tensorflow as tf\n",
        "\n",
        "real_images = tf.convert_to_tensor(x_test_scaled[:1000], dtype=tf.float32)\n"
      ]
    }
  ],
  "metadata": {
    "colab": {
      "provenance": [],
      "toc_visible": true
    },
    "kernelspec": {
      "display_name": "venv",
      "language": "python",
      "name": "python3"
    },
    "language_info": {
      "codemirror_mode": {
        "name": "ipython",
        "version": 3
      },
      "file_extension": ".py",
      "mimetype": "text/x-python",
      "name": "python",
      "nbconvert_exporter": "python",
      "pygments_lexer": "ipython3",
      "version": "3.11.0"
    }
  },
  "nbformat": 4,
  "nbformat_minor": 0
}
