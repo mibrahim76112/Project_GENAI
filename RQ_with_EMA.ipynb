{
  "cells": [
    {
      "cell_type": "markdown",
      "metadata": {
        "id": "y2Okl2JnUUhr"
      },
      "source": [
        "# Vector-Quantized Variational Autoencoders\n",
        "\n",
        "**Author:** [Sayak Paul](https://twitter.com/RisingSayak)<br>\n",
        "**Date created:** 2021/07/21<br>\n",
        "**Last modified:** 2022/06/27<br>\n",
        "**Description:** Training a VQ-VAE for image reconstruction and codebook sampling for generation."
      ]
    },
    {
      "cell_type": "markdown",
      "metadata": {
        "id": "gv71MA0DUUhv"
      },
      "source": [
        "In this example, we develop a Vector Quantized Variational Autoencoder (VQ-VAE).\n",
        "VQ-VAE was proposed in\n",
        "[Neural Discrete Representation Learning](https://arxiv.org/abs/1711.00937)\n",
        "by van der Oord et al. In standard VAEs, the latent space is continuous and is sampled\n",
        "from a Gaussian distribution. It is generally harder to learn such a continuous\n",
        "distribution via gradient descent. VQ-VAEs, on the other hand,\n",
        "operate on a discrete latent space, making the optimization problem simpler. It does so\n",
        "by maintaining a discrete *codebook*. The codebook is developed by\n",
        "discretizing the distance between continuous embeddings and the encoded\n",
        "outputs. These discrete code words are then fed to the decoder, which is trained\n",
        "to generate reconstructed samples.\n",
        "\n",
        "For an overview of VQ-VAEs, please refer to the original paper and\n",
        "[this video explanation](https://www.youtube.com/watch?v=VZFVUrYcig0).\n",
        "If you need a refresher on VAEs, you can refer to\n",
        "[this book chapter](https://livebook.manning.com/book/deep-learning-with-python-second-edition/chapter-12/).\n",
        "VQ-VAEs are one of the main recipes behind [DALL-E](https://openai.com/blog/dall-e/)\n",
        "and the idea of a codebook is used in [VQ-GANs](https://arxiv.org/abs/2012.09841).\n",
        "\n",
        "This example uses implementation details from the\n",
        "[official VQ-VAE tutorial](https://github.com/deepmind/sonnet/blob/master/sonnet/examples/vqvae_example.ipynb)\n",
        "from DeepMind.\n",
        "## Requirements\n",
        "To run this example, you will need TensorFlow 2.5 or higher, as well as\n",
        "TensorFlow Probability, which can be installed using the command below."
      ]
    },
    {
      "cell_type": "markdown",
      "metadata": {
        "id": "e-3ZUN7rUUhy"
      },
      "source": [
        "## Imports"
      ]
    },
    {
      "cell_type": "code",
      "execution_count": 3,
      "metadata": {
        "id": "-hu-GqEYUUhy"
      },
      "outputs": [
        {
          "name": "stdout",
          "output_type": "stream",
          "text": [
            "WARNING:tensorflow:From e:\\Second Term\\Gen AI\\Project\\venv\\Lib\\site-packages\\tf_keras\\src\\losses.py:2976: The name tf.losses.sparse_softmax_cross_entropy is deprecated. Please use tf.compat.v1.losses.sparse_softmax_cross_entropy instead.\n",
            "\n",
            "WARNING:tensorflow:From e:\\Second Term\\Gen AI\\Project\\venv\\Lib\\site-packages\\tensorflow_probability\\python\\internal\\backend\\numpy\\_utils.py:48: The name tf.logging.TaskLevelStatusMessage is deprecated. Please use tf.compat.v1.logging.TaskLevelStatusMessage instead.\n",
            "\n",
            "WARNING:tensorflow:From e:\\Second Term\\Gen AI\\Project\\venv\\Lib\\site-packages\\tensorflow_probability\\python\\internal\\backend\\numpy\\_utils.py:48: The name tf.control_flow_v2_enabled is deprecated. Please use tf.compat.v1.control_flow_v2_enabled instead.\n",
            "\n"
          ]
        }
      ],
      "source": [
        "import numpy as np\n",
        "import matplotlib.pyplot as plt\n",
        "\n",
        "from tensorflow import keras\n",
        "from tensorflow.keras import layers\n",
        "import tensorflow_probability as tfp\n",
        "import tensorflow as tf\n",
        "import cv2\n"
      ]
    },
    {
      "cell_type": "markdown",
      "metadata": {
        "id": "FLkzFH5UUUhy"
      },
      "source": [
        "## Residual VectorQuantizer layer\n",
        "\n",
        "First, we implement a custom layer for the vector quantizer, which is the layer in between\n",
        "the encoder and decoder. Consider an output from the encoder, with shape `(batch_size, height, width,\n",
        "num_filters)`. The vector quantizer will first flatten this output, only keeping the\n",
        "`num_filters` dimension intact. So, the shape would become `(batch_size * height * width,\n",
        "num_filters)`. The rationale behind this is to treat the total number of filters as the size for\n",
        "the latent embeddings.\n",
        "\n",
        "An embedding table is then initialized to learn a codebook. We measure the L2-normalized\n",
        "distance between the flattened encoder outputs and code words of this codebook. We take the\n",
        "code that yields the minimum distance, and we apply one-hot encoding to achieve quantization.\n",
        "This way, the code yielding the minimum distance to the corresponding encoder output is\n",
        "mapped as one and the remaining codes are mapped as zeros.\n",
        "\n",
        "Since the quantization process is not differentiable, we apply a\n",
        "[straight-through estimator](https://www.hassanaskary.com/python/pytorch/deep%20learning/2020/09/19/intuitive-explanation-of-straight-through-estimators.html)\n",
        "in between the decoder and the encoder, so that the decoder gradients are directly propagated\n",
        "to the encoder. As the encoder and decoder share the same channel space, the decoder gradients are\n",
        "still meaningful to the encoder."
      ]
    },
    {
      "cell_type": "markdown",
      "metadata": {
        "id": "I4Q3wR9iUUh0"
      },
      "source": [
        "**A note on straight-through estimation**:\n",
        "\n",
        "This line of code does the straight-through estimation part: `quantized = x +\n",
        "tf.stop_gradient(quantized - x)`. During backpropagation, `(quantized - x)` won't be\n",
        "included in the computation graph and the gradients obtained for `quantized`\n",
        "will be copied for `inputs`. Thanks to [this video](https://youtu.be/VZFVUrYcig0?t=1393)\n",
        "for helping me understand this technique."
      ]
    },
    {
      "cell_type": "markdown",
      "metadata": {},
      "source": [
        "## Residual "
      ]
    },
    {
      "cell_type": "code",
      "execution_count": 6,
      "metadata": {},
      "outputs": [],
      "source": [
        "class ResidualVectorQuantizer(layers.Layer):\n",
        "    def __init__(self, num_embeddings, embedding_dim, num_quantizers, beta=0.25, **kwargs):\n",
        "        super().__init__(**kwargs)\n",
        "        self.embedding_dim = embedding_dim\n",
        "        self.num_embeddings = num_embeddings\n",
        "        self.num_quantizers = num_quantizers  # Number of residual quantization stages\n",
        "        self.beta = beta\n",
        "\n",
        "        # Create multiple embedding matrices (one per quantization stage)\n",
        "        w_init =  tf.keras.initializers.RandomUniform()\n",
        "        self.embeddings = [\n",
        "            tf.Variable(\n",
        "                initial_value=w_init(\n",
        "                    shape=(self.embedding_dim, self.num_embeddings), dtype=\"float32\"\n",
        "                ),\n",
        "                trainable=True,\n",
        "                name=f\"embeddings_vqvae_{i}\",\n",
        "            )\n",
        "            for i in range(self.num_quantizers)\n",
        "        ]\n",
        "\n",
        "    def call(self, x):\n",
        "        shape = tf.shape(x)  # Get dynamic shape\n",
        "        batch_size, height, width, channels = shape[0], shape[1], shape[2], shape[3]\n",
        "        flattened = tf.reshape(x, [batch_size * height * width, channels])\n",
        "\n",
        "        residual = flattened\n",
        "        quantized_output = tf.zeros_like(flattened)\n",
        "        total_commitment_loss = 0\n",
        "        total_codebook_loss = 0\n",
        "\n",
        "\n",
        "        for i in range(self.num_quantizers):\n",
        "            # Quantization for the current stage\n",
        "            encoding_indices = self.get_code_indices(residual, self.embeddings[i])\n",
        "            encodings = tf.one_hot(encoding_indices, self.num_embeddings)\n",
        "            quantized = tf.matmul(encodings, self.embeddings[i], transpose_b=True)\n",
        "\n",
        "            \n",
        "            # Compute loss\n",
        "            codebook_loss = tf.reduce_mean((tf.stop_gradient(residual) - quantized) ** 2)\n",
        "            commitment_loss = tf.reduce_mean((residual - tf.stop_gradient(quantized)) ** 2)\n",
        "            total_commitment_loss += commitment_loss\n",
        "            total_codebook_loss += codebook_loss\n",
        "\n",
        "            \n",
        "            # Compute residual for the next stage\n",
        "            residual -= quantized\n",
        "            quantized_output += quantized\n",
        "    \n",
        "       # total_codebook_loss1 = tf.reduce_mean((tf.stop_gradient(flattened) - quantized_output) ** 2)\n",
        "        #total_commitment_loss1 = tf.reduce_mean((flattened - tf.stop_gradient(quantized_output)) ** 2)\n",
        "        total_loss = self.beta * total_commitment_loss + total_codebook_loss\n",
        "        # Add total loss\n",
        "        self.add_loss(total_loss)\n",
        "\n",
        "        # Reshape back to (batch, height, width, channels)\n",
        "        quantized_output = tf.reshape(quantized_output, [batch_size, height, width, channels])\n",
        "\n",
        "        # Straight-through estimator\n",
        "        quantized_output = x + tf.stop_gradient(quantized_output - x)\n",
        "        return quantized_output\n",
        "\n",
        "    def get_code_indices(self, inputs, embedding_matrix):\n",
        "        # Calculate L2-normalized distance between inputs and codebook vectors\n",
        "        similarity = tf.matmul(inputs, embedding_matrix)\n",
        "        distances = (\n",
        "            tf.reduce_sum(inputs ** 2, axis=1, keepdims=True)\n",
        "            + tf.reduce_sum(embedding_matrix ** 2, axis=0)\n",
        "            - 2 * similarity\n",
        "        )\n",
        "\n",
        "        # Get the index of the nearest codebook vector\n",
        "        encoding_indices = tf.argmin(distances, axis=1)\n",
        "        return encoding_indices\n"
      ]
    },
    {
      "cell_type": "markdown",
      "metadata": {
        "id": "2-aVrzU_UUh1"
      },
      "source": [
        "## Encoder and decoder\n",
        "\n",
        "Now for the encoder and the decoder for the VQ-VAE. We will keep them small so\n",
        "that their capacity is a good fit for the MNIST dataset. The implementation of the encoder and\n",
        "come from\n",
        "[this example](https://keras.io/examples/generative/vae).\n",
        "\n",
        "Note that activations _other than ReLU_ may not work for the encoder and decoder layers in the\n",
        "quantization architecture: Leaky ReLU activated layers, for example, have proven difficult to\n",
        "train, resulting in intermittent loss spikes that the model has trouble recovering from."
      ]
    },
    {
      "cell_type": "code",
      "execution_count": 7,
      "metadata": {
        "id": "JujsUdT2UUh1"
      },
      "outputs": [],
      "source": [
        "\n",
        "def get_encoder(latent_dim=16):\n",
        "    encoder_inputs = keras.Input(shape=(28, 28, 1))\n",
        "    x = layers.Conv2D(32, 3, activation=\"relu\", strides=2, padding=\"same\")(\n",
        "        encoder_inputs\n",
        "    )\n",
        "    x = layers.Conv2D(64, 3, activation=\"relu\", strides=2, padding=\"same\")(x)\n",
        "    encoder_outputs = layers.Conv2D(latent_dim, 1, padding=\"same\")(x)\n",
        "    return keras.Model(encoder_inputs, encoder_outputs, name=\"encoder\")\n",
        "\n",
        "\n",
        "def get_decoder(latent_dim=16):\n",
        "    latent_inputs = keras.Input(shape=get_encoder(latent_dim).output.shape[1:])\n",
        "    x = layers.Conv2DTranspose(64, 3, activation=\"relu\", strides=2, padding=\"same\")(\n",
        "        latent_inputs\n",
        "    )\n",
        "    x = layers.Conv2DTranspose(32, 3, activation=\"relu\", strides=2, padding=\"same\")(x)\n",
        "    decoder_outputs = layers.Conv2DTranspose(1, 3, padding=\"same\")(x)\n",
        "    return keras.Model(latent_inputs, decoder_outputs, name=\"decoder\")\n"
      ]
    },
    {
      "cell_type": "markdown",
      "metadata": {},
      "source": [
        "## Defining RQ"
      ]
    },
    {
      "cell_type": "code",
      "execution_count": 8,
      "metadata": {},
      "outputs": [
        {
          "data": {
            "text/html": [
              "<pre style=\"white-space:pre;overflow-x:auto;line-height:normal;font-family:Menlo,'DejaVu Sans Mono',consolas,'Courier New',monospace\"><span style=\"font-weight: bold\">Model: \"rvq_vae\"</span>\n",
              "</pre>\n"
            ],
            "text/plain": [
              "\u001b[1mModel: \"rvq_vae\"\u001b[0m\n"
            ]
          },
          "metadata": {},
          "output_type": "display_data"
        },
        {
          "data": {
            "text/html": [
              "<pre style=\"white-space:pre;overflow-x:auto;line-height:normal;font-family:Menlo,'DejaVu Sans Mono',consolas,'Courier New',monospace\">┏━━━━━━━━━━━━━━━━━━━━━━━━━━━━━━━━━┳━━━━━━━━━━━━━━━━━━━━━━━━┳━━━━━━━━━━━━━━━┓\n",
              "┃<span style=\"font-weight: bold\"> Layer (type)                    </span>┃<span style=\"font-weight: bold\"> Output Shape           </span>┃<span style=\"font-weight: bold\">       Param # </span>┃\n",
              "┡━━━━━━━━━━━━━━━━━━━━━━━━━━━━━━━━━╇━━━━━━━━━━━━━━━━━━━━━━━━╇━━━━━━━━━━━━━━━┩\n",
              "│ input_layer_3 (<span style=\"color: #0087ff; text-decoration-color: #0087ff\">InputLayer</span>)      │ (<span style=\"color: #00d7ff; text-decoration-color: #00d7ff\">None</span>, <span style=\"color: #00af00; text-decoration-color: #00af00\">28</span>, <span style=\"color: #00af00; text-decoration-color: #00af00\">28</span>, <span style=\"color: #00af00; text-decoration-color: #00af00\">1</span>)      │             <span style=\"color: #00af00; text-decoration-color: #00af00\">0</span> │\n",
              "├─────────────────────────────────┼────────────────────────┼───────────────┤\n",
              "│ encoder (<span style=\"color: #0087ff; text-decoration-color: #0087ff\">Functional</span>)            │ (<span style=\"color: #00d7ff; text-decoration-color: #00d7ff\">None</span>, <span style=\"color: #00af00; text-decoration-color: #00af00\">7</span>, <span style=\"color: #00af00; text-decoration-color: #00af00\">7</span>, <span style=\"color: #00af00; text-decoration-color: #00af00\">4</span>)        │        <span style=\"color: #00af00; text-decoration-color: #00af00\">19,076</span> │\n",
              "├─────────────────────────────────┼────────────────────────┼───────────────┤\n",
              "│ vector_quantizer                │ (<span style=\"color: #00d7ff; text-decoration-color: #00d7ff\">None</span>, <span style=\"color: #00af00; text-decoration-color: #00af00\">7</span>, <span style=\"color: #00af00; text-decoration-color: #00af00\">7</span>, <span style=\"color: #00af00; text-decoration-color: #00af00\">4</span>)        │             <span style=\"color: #00af00; text-decoration-color: #00af00\">0</span> │\n",
              "│ (<span style=\"color: #0087ff; text-decoration-color: #0087ff\">ResidualVectorQuantizer</span>)       │                        │               │\n",
              "├─────────────────────────────────┼────────────────────────┼───────────────┤\n",
              "│ decoder (<span style=\"color: #0087ff; text-decoration-color: #0087ff\">Functional</span>)            │ (<span style=\"color: #00d7ff; text-decoration-color: #00d7ff\">None</span>, <span style=\"color: #00af00; text-decoration-color: #00af00\">28</span>, <span style=\"color: #00af00; text-decoration-color: #00af00\">28</span>, <span style=\"color: #00af00; text-decoration-color: #00af00\">1</span>)      │        <span style=\"color: #00af00; text-decoration-color: #00af00\">21,121</span> │\n",
              "└─────────────────────────────────┴────────────────────────┴───────────────┘\n",
              "</pre>\n"
            ],
            "text/plain": [
              "┏━━━━━━━━━━━━━━━━━━━━━━━━━━━━━━━━━┳━━━━━━━━━━━━━━━━━━━━━━━━┳━━━━━━━━━━━━━━━┓\n",
              "┃\u001b[1m \u001b[0m\u001b[1mLayer (type)                   \u001b[0m\u001b[1m \u001b[0m┃\u001b[1m \u001b[0m\u001b[1mOutput Shape          \u001b[0m\u001b[1m \u001b[0m┃\u001b[1m \u001b[0m\u001b[1m      Param #\u001b[0m\u001b[1m \u001b[0m┃\n",
              "┡━━━━━━━━━━━━━━━━━━━━━━━━━━━━━━━━━╇━━━━━━━━━━━━━━━━━━━━━━━━╇━━━━━━━━━━━━━━━┩\n",
              "│ input_layer_3 (\u001b[38;5;33mInputLayer\u001b[0m)      │ (\u001b[38;5;45mNone\u001b[0m, \u001b[38;5;34m28\u001b[0m, \u001b[38;5;34m28\u001b[0m, \u001b[38;5;34m1\u001b[0m)      │             \u001b[38;5;34m0\u001b[0m │\n",
              "├─────────────────────────────────┼────────────────────────┼───────────────┤\n",
              "│ encoder (\u001b[38;5;33mFunctional\u001b[0m)            │ (\u001b[38;5;45mNone\u001b[0m, \u001b[38;5;34m7\u001b[0m, \u001b[38;5;34m7\u001b[0m, \u001b[38;5;34m4\u001b[0m)        │        \u001b[38;5;34m19,076\u001b[0m │\n",
              "├─────────────────────────────────┼────────────────────────┼───────────────┤\n",
              "│ vector_quantizer                │ (\u001b[38;5;45mNone\u001b[0m, \u001b[38;5;34m7\u001b[0m, \u001b[38;5;34m7\u001b[0m, \u001b[38;5;34m4\u001b[0m)        │             \u001b[38;5;34m0\u001b[0m │\n",
              "│ (\u001b[38;5;33mResidualVectorQuantizer\u001b[0m)       │                        │               │\n",
              "├─────────────────────────────────┼────────────────────────┼───────────────┤\n",
              "│ decoder (\u001b[38;5;33mFunctional\u001b[0m)            │ (\u001b[38;5;45mNone\u001b[0m, \u001b[38;5;34m28\u001b[0m, \u001b[38;5;34m28\u001b[0m, \u001b[38;5;34m1\u001b[0m)      │        \u001b[38;5;34m21,121\u001b[0m │\n",
              "└─────────────────────────────────┴────────────────────────┴───────────────┘\n"
            ]
          },
          "metadata": {},
          "output_type": "display_data"
        },
        {
          "data": {
            "text/html": [
              "<pre style=\"white-space:pre;overflow-x:auto;line-height:normal;font-family:Menlo,'DejaVu Sans Mono',consolas,'Courier New',monospace\"><span style=\"font-weight: bold\"> Total params: </span><span style=\"color: #00af00; text-decoration-color: #00af00\">40,197</span> (157.02 KB)\n",
              "</pre>\n"
            ],
            "text/plain": [
              "\u001b[1m Total params: \u001b[0m\u001b[38;5;34m40,197\u001b[0m (157.02 KB)\n"
            ]
          },
          "metadata": {},
          "output_type": "display_data"
        },
        {
          "data": {
            "text/html": [
              "<pre style=\"white-space:pre;overflow-x:auto;line-height:normal;font-family:Menlo,'DejaVu Sans Mono',consolas,'Courier New',monospace\"><span style=\"font-weight: bold\"> Trainable params: </span><span style=\"color: #00af00; text-decoration-color: #00af00\">40,197</span> (157.02 KB)\n",
              "</pre>\n"
            ],
            "text/plain": [
              "\u001b[1m Trainable params: \u001b[0m\u001b[38;5;34m40,197\u001b[0m (157.02 KB)\n"
            ]
          },
          "metadata": {},
          "output_type": "display_data"
        },
        {
          "data": {
            "text/html": [
              "<pre style=\"white-space:pre;overflow-x:auto;line-height:normal;font-family:Menlo,'DejaVu Sans Mono',consolas,'Courier New',monospace\"><span style=\"font-weight: bold\"> Non-trainable params: </span><span style=\"color: #00af00; text-decoration-color: #00af00\">0</span> (0.00 B)\n",
              "</pre>\n"
            ],
            "text/plain": [
              "\u001b[1m Non-trainable params: \u001b[0m\u001b[38;5;34m0\u001b[0m (0.00 B)\n"
            ]
          },
          "metadata": {},
          "output_type": "display_data"
        }
      ],
      "source": [
        "\n",
        "def get_vqvae(latent_dim=4, num_embeddings=64,num_quantizers =2):\n",
        "    rvq_layer = ResidualVectorQuantizer(num_embeddings, latent_dim,num_quantizers, name=\"vector_quantizer\")\n",
        "    encoder = get_encoder(latent_dim)\n",
        "    decoder = get_decoder(latent_dim)\n",
        "    inputs = keras.Input(shape=(28, 28, 1))\n",
        "    encoder_outputs = encoder(inputs)\n",
        "    quantized_latents = rvq_layer(encoder_outputs)\n",
        "    reconstructions = decoder(quantized_latents)\n",
        "    return keras.Model(inputs, reconstructions, name=\"rvq_vae\")\n",
        "\n",
        "get_vqvae().summary()"
      ]
    },
    {
      "cell_type": "markdown",
      "metadata": {
        "id": "vwzLMWy6UUh3"
      },
      "source": [
        "## Wrapping up the training loop inside `RVQVAETrainer`"
      ]
    },
    {
      "cell_type": "code",
      "execution_count": 9,
      "metadata": {
        "id": "QbfBDo8iUUh3"
      },
      "outputs": [],
      "source": [
        "\n",
        "class RVQVAETrainer(keras.models.Model):\n",
        "    def __init__(self, train_variance, latent_dim=32, num_embeddings=128, num_quantizers = 2,**kwargs):\n",
        "        super().__init__(**kwargs)\n",
        "        self.train_variance = train_variance\n",
        "        self.latent_dim = latent_dim\n",
        "        self.num_embeddings = num_embeddings\n",
        "        self.num_quantizers = num_quantizers\n",
        "\n",
        "        self.rvqvae = get_vqvae(self.latent_dim, self.num_embeddings, self.num_quantizers)\n",
        "\n",
        "        self.total_loss_tracker = keras.metrics.Mean(name=\"total_loss\")\n",
        "        self.reconstruction_loss_tracker = keras.metrics.Mean(\n",
        "            name=\"reconstruction_loss\"\n",
        "        )\n",
        "        self.rvq_loss_tracker = keras.metrics.Mean(name=\"rvq_loss\")\n",
        "\n",
        "    @property\n",
        "    def metrics(self):\n",
        "        return [\n",
        "            self.total_loss_tracker,\n",
        "            self.reconstruction_loss_tracker,\n",
        "            self.rvq_loss_tracker,\n",
        "        ]\n",
        "\n",
        "    def train_step(self, x):\n",
        "        with tf.GradientTape() as tape:\n",
        "            # Outputs from the VQ-VAE.\n",
        "            reconstructions = self.rvqvae(x)\n",
        "\n",
        "            # Calculate the losses.\n",
        "            reconstruction_loss = (\n",
        "                tf.reduce_mean((x - reconstructions) ** 2) / self.train_variance\n",
        "            )\n",
        "            total_loss = reconstruction_loss + sum(self.rvqvae.losses)\n",
        "\n",
        "        # Backpropagation.\n",
        "        grads = tape.gradient(total_loss, self.rvqvae.trainable_variables)\n",
        "        self.optimizer.apply_gradients(zip(grads, self.rvqvae.trainable_variables))\n",
        "\n",
        "        # Loss tracking.\n",
        "        self.total_loss_tracker.update_state(total_loss)\n",
        "        self.reconstruction_loss_tracker.update_state(reconstruction_loss)\n",
        "        self.rvq_loss_tracker.update_state(sum(self.rvqvae.losses))\n",
        "\n",
        "        # Log results.\n",
        "        return {\n",
        "            \"loss\": self.total_loss_tracker.result(),\n",
        "            \"reconstruction_loss\": self.reconstruction_loss_tracker.result(),\n",
        "            \"rvqvae_loss\": self.rvq_loss_tracker.result(),\n",
        "        }\n"
      ]
    },
    {
      "cell_type": "markdown",
      "metadata": {
        "id": "ex5ljEADUUh4"
      },
      "source": [
        "## Load and preprocess the MNIST dataset"
      ]
    },
    {
      "cell_type": "code",
      "execution_count": 10,
      "metadata": {
        "colab": {
          "base_uri": "https://localhost:8080/"
        },
        "id": "ST-R9nMNUUh4",
        "outputId": "bc130232-e750-4370-c910-7e9b9848418d"
      },
      "outputs": [],
      "source": [
        "(x_train, _), (x_test, _) = keras.datasets.mnist.load_data()\n",
        "\n",
        "x_train = np.expand_dims(x_train, -1)\n",
        "x_test = np.expand_dims(x_test, -1)\n",
        "x_train_scaled = (x_train / 255.0) - 0.5\n",
        "x_test_scaled = (x_test / 255.0) - 0.5\n",
        "\n",
        "data_variance = np.var(x_train / 255.0)"
      ]
    },
    {
      "cell_type": "markdown",
      "metadata": {
        "id": "_C2aF4jXUUh4"
      },
      "source": [
        "## Train the VQ-VAE model"
      ]
    },
    {
      "cell_type": "code",
      "execution_count": 26,
      "metadata": {},
      "outputs": [
        {
          "data": {
            "text/plain": [
              "85"
            ]
          },
          "execution_count": 26,
          "metadata": {},
          "output_type": "execute_result"
        }
      ],
      "source": [
        "int(256/3)"
      ]
    },
    {
      "cell_type": "code",
      "execution_count": 28,
      "metadata": {
        "colab": {
          "base_uri": "https://localhost:8080/"
        },
        "id": "P5on6YX9UUh4",
        "outputId": "70b0de92-1b0b-4274-e3fb-fa90c602f212"
      },
      "outputs": [
        {
          "name": "stdout",
          "output_type": "stream",
          "text": [
            "Epoch 1/2\n",
            "\u001b[1m469/469\u001b[0m \u001b[32m━━━━━━━━━━━━━━━━━━━━\u001b[0m\u001b[37m\u001b[0m \u001b[1m30s\u001b[0m 58ms/step - loss: 31.8798 - reconstruction_loss: 0.8245 - rvqvae_loss: 31.0553\n",
            "Epoch 2/2\n",
            "\u001b[1m469/469\u001b[0m \u001b[32m━━━━━━━━━━━━━━━━━━━━\u001b[0m\u001b[37m\u001b[0m \u001b[1m26s\u001b[0m 55ms/step - loss: 115.7739 - reconstruction_loss: 0.1260 - rvqvae_loss: 115.6479\n"
          ]
        }
      ],
      "source": [
        "num_quant = 1\n",
        "vqvae_trainer = RVQVAETrainer(data_variance, latent_dim=4, num_embeddings=int(256/num_quant), num_quantizers = num_quant)\n",
        "vqvae_trainer.compile(optimizer=keras.optimizers.Adam())\n",
        "history = vqvae_trainer.fit(x_train_scaled, epochs=2, batch_size=128)"
      ]
    },
    {
      "cell_type": "markdown",
      "metadata": {
        "id": "1NaPvlpeUUh5"
      },
      "source": [
        "## Reconstruction results on the test set"
      ]
    },
    {
      "cell_type": "code",
      "execution_count": 19,
      "metadata": {
        "id": "-HsHZ60qUUh5"
      },
      "outputs": [
        {
          "name": "stdout",
          "output_type": "stream",
          "text": [
            "\u001b[1m1/1\u001b[0m \u001b[32m━━━━━━━━━━━━━━━━━━━━\u001b[0m\u001b[37m\u001b[0m \u001b[1m0s\u001b[0m 163ms/step\n"
          ]
        },
        {
          "data": {
            "image/png": "[encoded data removed]",
            "text/plain": [
              "<Figure size 640x480 with 2 Axes>"
            ]
          },
          "metadata": {},
          "output_type": "display_data"
        },
        {
          "data": {
            "image/png": "[encoded data removed]",
            "text/plain": [
              "<Figure size 640x480 with 2 Axes>"
            ]
          },
          "metadata": {},
          "output_type": "display_data"
        }
      ],
      "source": [
        "\n",
        "def show_subplot(original, reconstructed):\n",
        "    plt.subplot(1, 2, 1)\n",
        "    plt.imshow(original.squeeze() + 0.5)\n",
        "    plt.title(\"Original\")\n",
        "    plt.axis(\"off\")\n",
        "\n",
        "    plt.subplot(1, 2, 2)\n",
        "    plt.imshow(reconstructed.squeeze() + 0.5)\n",
        "    plt.title(\"Reconstructed\")\n",
        "    plt.axis(\"off\")\n",
        "\n",
        "    plt.show()\n",
        "\n",
        "samples = 2\n",
        "trained_vqvae_model = vqvae_trainer.rvqvae\n",
        "idx = np.random.choice(len(x_test_scaled), 10)\n",
        "test_images = x_test_scaled[idx]\n",
        "test_images_sub = test_images[:samples]\n",
        "reconstructions_test = trained_vqvae_model.predict(test_images_sub)\n",
        "\n",
        "for test_image, reconstructed_image in zip(test_images_sub, reconstructions_test):\n",
        "    show_subplot(test_image, reconstructed_image)"
      ]
    },
    {
      "cell_type": "markdown",
      "metadata": {
        "id": "Oh3F-yIwUUh5"
      },
      "source": [
        "These results look decent. You are encouraged to play with different hyperparameters\n",
        "(especially the number of embeddings and the dimensions of the embeddings) and observe how\n",
        "they affect the results."
      ]
    },
    {
      "cell_type": "markdown",
      "metadata": {
        "id": "X9JBu8GgUUh5"
      },
      "source": [
        "## Visualizing the discrete codes"
      ]
    },
    {
      "cell_type": "markdown",
      "metadata": {},
      "source": [
        "Loading image"
      ]
    },
    {
      "cell_type": "code",
      "execution_count": 15,
      "metadata": {},
      "outputs": [
        {
          "data": {
            "image/png": "[encoded data removed]",
            "text/plain": [
              "<Figure size 640x480 with 1 Axes>"
            ]
          },
          "metadata": {},
          "output_type": "display_data"
        },
        {
          "data": {
            "text/plain": [
              "(1, 28, 28, 1)"
            ]
          },
          "execution_count": 15,
          "metadata": {},
          "output_type": "execute_result"
        }
      ],
      "source": [
        "\n",
        "# Load the image in grayscale (0 means grayscale)\n",
        "image = cv2.imread(r'E:\\Second Term\\Gen AI\\Project\\mnist_random_image.png', cv2.IMREAD_GRAYSCALE)\n",
        "image = image/255 -0.5\n",
        "expanded_image = np.expand_dims(image, axis=0)  # Shape becomes (1, 28, 28)\n",
        "expanded_image = np.expand_dims(expanded_image, axis=-1)  # Shape becomes (1, 28, 28, 1)\n",
        "\n",
        "# Display the image using matplotlib\n",
        "plt.imshow(image, cmap='gray')\n",
        "plt.axis('off')  # Turn off axis labels\n",
        "plt.show()\n",
        "np.shape(expanded_image)\n"
      ]
    },
    {
      "cell_type": "code",
      "execution_count": 20,
      "metadata": {
        "id": "OYwGaSXqUUh5"
      },
      "outputs": [
        {
          "name": "stdout",
          "output_type": "stream",
          "text": [
            "WARNING:tensorflow:5 out of the last 6 calls to <function TensorFlowTrainer.make_predict_function.<locals>.one_step_on_data_distributed at 0x000001C2D4155DA0> triggered tf.function retracing. Tracing is expensive and the excessive number of tracings could be due to (1) creating @tf.function repeatedly in a loop, (2) passing tensors with different shapes, (3) passing Python objects instead of tensors. For (1), please define your @tf.function outside of the loop. For (2), @tf.function has reduce_retracing=True option that can avoid unnecessary retracing. For (3), please refer to https://www.tensorflow.org/guide/function#controlling_retracing and https://www.tensorflow.org/api_docs/python/tf/function for  more details.\n",
            "\u001b[1m1/1\u001b[0m \u001b[32m━━━━━━━━━━━━━━━━━━━━\u001b[0m\u001b[37m\u001b[0m \u001b[1m0s\u001b[0m 58ms/step\n",
            "Error at quantization stage 1 (L2 norm): 44.041927337646484\n"
          ]
        },
        {
          "data": {
            "image/png": "[encoded data removed]",
            "text/plain": [
              "<Figure size 1200x600 with 2 Axes>"
            ]
          },
          "metadata": {},
          "output_type": "display_data"
        }
      ],
      "source": [
        "import tensorflow as tf\n",
        "import matplotlib.pyplot as plt\n",
        "\n",
        "# Get the encoder and vector quantizer layers\n",
        "encoder = vqvae_trainer.rvqvae.get_layer(\"encoder\")\n",
        "quantizer = vqvae_trainer.rvqvae.get_layer(\"vector_quantizer\")\n",
        "\n",
        "\n",
        "num_random_images = 1\n",
        "random_indices = np.random.choice(test_images.shape[0], num_random_images, replace=False)\n",
        "\n",
        "#test_images_subset = test_images[random_indices]\n",
        "test_images_subset = expanded_image\n",
        "\n",
        "encoded_outputs = encoder.predict(test_images_subset)  # Shape: (batch, height, width, channels)\n",
        "\n",
        "# Reshape for quantization (flatten spatial dimensions)\n",
        "batch_size, height, width, channels = encoded_outputs.shape\n",
        "flat_enc_outputs = encoded_outputs.reshape(batch_size * height * width, channels)\n",
        "\n",
        "# Initialize a list to store the quantized outputs after each stage\n",
        "all_quantized_outputs = []\n",
        "\n",
        "# Loop over each quantization stage\n",
        "residual = flat_enc_outputs\n",
        "for i in range(quantizer.num_quantizers):\n",
        "    embedding_matrix = quantizer.embeddings[i]  # Get the embedding matrix for this stage\n",
        "    \n",
        "    # Get the quantized indices for the current stage\n",
        "    codebook_indices = quantizer.get_code_indices(residual, embedding_matrix)\n",
        "    \n",
        "    # Compute the quantized output for the current stage\n",
        "    encodings = tf.one_hot(codebook_indices, quantizer.num_embeddings)\n",
        "    quantized = tf.matmul(encodings, embedding_matrix, transpose_b=True)\n",
        "    \n",
        "    # Store the quantized output after this stage\n",
        "    all_quantized_outputs.append(quantized.numpy().reshape(batch_size, height, width, channels))\n",
        "\n",
        "    # Compute the residual for the next stage\n",
        "    residual -= quantized\n",
        "\n",
        "    # Compute the L2 norm error between the encoder output and the quantized output\n",
        "    error = tf.norm(residual, axis=-1)  # L2 norm error across channels\n",
        "    error_value = tf.reduce_mean(error).numpy()  # Take the average error for this stage\n",
        "    print(f\"Error at quantization stage {i + 1} (L2 norm): {error_value}\")\n",
        "\n",
        "# Visualize individual channels from the quantized output\n",
        "for i in range(len(test_images_subset)):\n",
        "    plt.figure(figsize=(12, 6))\n",
        "\n",
        "    # Plot the original image\n",
        "    plt.subplot(1, len(all_quantized_outputs) + 1, 1)\n",
        "    plt.imshow(test_images_subset[i].squeeze() + 0.5, cmap=\"gray\")\n",
        "    plt.title(\"Original\")\n",
        "    plt.axis(\"off\")\n",
        "\n",
        "    # Plot individual channels from the quantized output after each quantization stage\n",
        "    for j, quantized_output in enumerate(all_quantized_outputs):\n",
        "        plt.subplot(1, len(all_quantized_outputs) + 1, j + 2)\n",
        "        plt.imshow(quantized_output[i, :, :, 0], cmap=\"viridis\")  # Show the first channel\n",
        "        plt.title(f\"Quantized Stage {j + 1} - Channel 0\")\n",
        "        plt.axis(\"off\")\n",
        "\n",
        "    plt.show()\n"
      ]
    },
    {
      "cell_type": "markdown",
      "metadata": {},
      "source": [
        "## Plot of Loss"
      ]
    },
    {
      "cell_type": "code",
      "execution_count": null,
      "metadata": {},
      "outputs": [],
      "source": [
        "np.save(\"total_loss_woEMA.npy\", history.history[\"loss\"])"
      ]
    },
    {
      "cell_type": "code",
      "execution_count": 30,
      "metadata": {},
      "outputs": [
        {
          "data": {
            "image/png": "[encoded data removed]",
            "text/plain": [
              "<Figure size 1000x500 with 1 Axes>"
            ]
          },
          "metadata": {},
          "output_type": "display_data"
        }
      ],
      "source": [
        "import matplotlib.pyplot as plt\n",
        "\n",
        "# Assuming history object has been trained and you want to plot total_loss\n",
        "total_loss = history.history[\"loss\"]  # Replace with the correct loss name if necessary\n",
        "#reconstruction_loss = history.history[\"reconstruction_loss\"]  # Replace with actual name if available\n",
        "#rvqvae_loss = history.history[\"rvqvae_loss\"]  # Replace with actual name if available\n",
        "\n",
        "# Plotting\n",
        "plt.figure(figsize=(10, 5))\n",
        "plt.plot(total_loss, label=\"Total Loss\", alpha=0.7)\n",
        "#plt.plot(reconstruction_loss, label=\"Reconstruction Loss\", alpha=0.7)\n",
        "#plt.plot(rvqvae_loss, label=\"RVQ-VAE Loss\", alpha=0.7)\n",
        "\n",
        "plt.xlabel(\"Epochs\")\n",
        "plt.ylabel(\"Loss\")\n",
        "plt.title(\"Model Training Losses\")\n",
        "plt.legend()\n",
        "plt.show()\n"
      ]
    },
    {
      "cell_type": "markdown",
      "metadata": {
        "id": "tgH4xNZsUUh6"
      },
      "source": [
        "The figure above shows that the discrete codes have been able to capture some\n",
        "regularities from the dataset. Now, how do we sample from this codebook to create\n",
        "novel images? Since these codes are discrete and we imposed a categorical distribution\n",
        "on them, we cannot use them yet to generate anything meaningful until we can generate likely\n",
        "sequences of codes that we can give to the decoder.\n",
        "\n",
        "The authors use a PixelCNN to train these codes so that they can be used as powerful priors to\n",
        "generate novel examples. PixelCNN was proposed in\n",
        "[Conditional Image Generation with PixelCNN Decoders](https://arxiv.org/abs/1606.05328)\n",
        "by van der Oord et al. We borrow the implementation from\n",
        "[this PixelCNN example](https://keras.io/examples/generative/pixelcnn/). It's an autoregressive\n",
        "generative model where the outputs are conditional on the prior ones. In other words, a PixelCNN\n",
        "generates an image on a pixel-by-pixel basis. For the purpose in this example, however, its task\n",
        "is to generate code book indices instead of pixels directly. The trained VQ-VAE decoder is used\n",
        "to map the indices generated by the PixelCNN back into the pixel space."
      ]
    },
    {
      "cell_type": "markdown",
      "metadata": {
        "id": "Vtuqlg-AUUh6"
      },
      "source": [
        "## PixelCNN hyperparameters"
      ]
    },
    {
      "cell_type": "code",
      "execution_count": null,
      "metadata": {
        "id": "7W-To9U9UUh6"
      },
      "outputs": [],
      "source": [
        "num_residual_blocks = 2\n",
        "num_pixelcnn_layers = 2\n",
        "pixelcnn_input_shape = encoded_outputs.shape[1:-1]\n",
        "print(f\"Input shape of the PixelCNN: {pixelcnn_input_shape}\")"
      ]
    },
    {
      "cell_type": "markdown",
      "metadata": {
        "id": "EZFHS_8hUUh6"
      },
      "source": [
        "This input shape represents the reduction in the resolution performed by the encoder. With \"same\" padding,\n",
        "this exactly halves the \"resolution\" of the output shape for each stride-2 convolution layer. So, with these\n",
        "two layers, we end up with an encoder output tensor of 7x7 on axes 2 and 3, with the first axis as the batch\n",
        "size and the last axis being the code book embedding size. Since the quantization layer in the autoencoder\n",
        "maps these 7x7 tensors to indices of the code book, these output layer axis sizes must be matched by the\n",
        "PixelCNN as the input shape. The task of the PixelCNN for this architecture is to generate _likely_ 7x7\n",
        "arrangements of codebook indices.\n",
        "\n",
        "Note that this shape is something to optimize for in larger-sized image domains, along with the code\n",
        "book sizes. Since the PixelCNN is autoregressive, it needs to pass over each codebook index sequentially\n",
        "in order to generate novel images from the codebook. Each stride-2 (or rather more correctly a\n",
        "stride (2, 2)) convolution layer will divide the image generation time by four. Note, however, that there\n",
        "is probably a lower bound on this part: when the number of codes for the image to reconstruct is too small,\n",
        "it has insufficient information for the decoder to represent the level of detail in the image, so the\n",
        "output quality will suffer. This can be amended at least to some extent by using a larger code book.\n",
        "Since the autoregressive part of the image generation procedure uses codebook indices, there is far less of\n",
        "a performance penalty on using a larger code book as the lookup time for a larger-sized code from a larger\n",
        "code book is much smaller in comparison to iterating over a larger sequence of code book indices, although\n",
        "the size of the code book does impact on the batch size that can pass through the image generation procedure.\n",
        "Finding the sweet spot for this trade-off can require some architecture tweaking and could very well differ\n",
        "per dataset."
      ]
    },
    {
      "cell_type": "markdown",
      "metadata": {
        "id": "SmGoin7xUUh6"
      },
      "source": [
        "## PixelCNN model\n",
        "\n",
        "Majority of this comes from\n",
        "[this example](https://keras.io/examples/generative/pixelcnn/).\n",
        "\n",
        "## Notes\n",
        "Thanks to [Rein van 't Veer](https://github.com/reinvantveer) for improving this example with\n",
        "copy-edits and minor code clean-ups."
      ]
    },
    {
      "cell_type": "code",
      "execution_count": null,
      "metadata": {
        "id": "XFr5XEe1UUh6"
      },
      "outputs": [],
      "source": [
        "# The first layer is the PixelCNN layer. This layer simply\n",
        "# builds on the 2D convolutional layer, but includes masking.\n",
        "class PixelConvLayer(layers.Layer):\n",
        "    def __init__(self, mask_type, **kwargs):\n",
        "        super().__init__()\n",
        "        self.mask_type = mask_type\n",
        "        self.conv = layers.Conv2D(**kwargs)\n",
        "\n",
        "    def build(self, input_shape):\n",
        "        # Build the conv2d layer to initialize kernel variables\n",
        "        self.conv.build(input_shape)\n",
        "        # Use the initialized kernel to create the mask\n",
        "        kernel_shape = self.conv.kernel.get_shape()\n",
        "        self.mask = np.zeros(shape=kernel_shape)\n",
        "        self.mask[: kernel_shape[0] // 2, ...] = 1.0\n",
        "        self.mask[kernel_shape[0] // 2, : kernel_shape[1] // 2, ...] = 1.0\n",
        "        if self.mask_type == \"B\":\n",
        "            self.mask[kernel_shape[0] // 2, kernel_shape[1] // 2, ...] = 1.0\n",
        "\n",
        "    def call(self, inputs):\n",
        "        self.conv.kernel.assign(self.conv.kernel * self.mask)\n",
        "        return self.conv(inputs)\n",
        "\n",
        "\n",
        "# Next, we build our residual block layer.\n",
        "# This is just a normal residual block, but based on the PixelConvLayer.\n",
        "class ResidualBlock(keras.layers.Layer):\n",
        "    def __init__(self, filters, **kwargs):\n",
        "        super().__init__(**kwargs)\n",
        "        self.conv1 = keras.layers.Conv2D(\n",
        "            filters=filters, kernel_size=1, activation=\"relu\"\n",
        "        )\n",
        "        self.pixel_conv = PixelConvLayer(\n",
        "            mask_type=\"B\",\n",
        "            filters=filters // 2,\n",
        "            kernel_size=3,\n",
        "            activation=\"relu\",\n",
        "            padding=\"same\",\n",
        "        )\n",
        "        self.conv2 = keras.layers.Conv2D(\n",
        "            filters=filters, kernel_size=1, activation=\"relu\"\n",
        "        )\n",
        "\n",
        "    def call(self, inputs):\n",
        "        x = self.conv1(inputs)\n",
        "        x = self.pixel_conv(x)\n",
        "        x = self.conv2(x)\n",
        "        return keras.layers.add([inputs, x])\n",
        "\n",
        "\n",
        "pixelcnn_inputs = keras.Input(shape=pixelcnn_input_shape, dtype=tf.int32)\n",
        "ohe = tf.one_hot(pixelcnn_inputs, vqvae_trainer.num_embeddings)\n",
        "x = PixelConvLayer(\n",
        "    mask_type=\"A\", filters=128, kernel_size=7, activation=\"relu\", padding=\"same\"\n",
        ")(ohe)\n",
        "\n",
        "for _ in range(num_residual_blocks):\n",
        "    x = ResidualBlock(filters=128)(x)\n",
        "\n",
        "for _ in range(num_pixelcnn_layers):\n",
        "    x = PixelConvLayer(\n",
        "        mask_type=\"B\",\n",
        "        filters=128,\n",
        "        kernel_size=1,\n",
        "        strides=1,\n",
        "        activation=\"relu\",\n",
        "        padding=\"valid\",\n",
        "    )(x)\n",
        "\n",
        "out = keras.layers.Conv2D(\n",
        "    filters=vqvae_trainer.num_embeddings, kernel_size=1, strides=1, padding=\"valid\"\n",
        ")(x)\n",
        "\n",
        "pixel_cnn = keras.Model(pixelcnn_inputs, out, name=\"pixel_cnn\")\n",
        "pixel_cnn.summary()"
      ]
    },
    {
      "cell_type": "markdown",
      "metadata": {
        "id": "Ms9lnXHbUUh6"
      },
      "source": [
        "## Prepare data to train the PixelCNN\n",
        "\n",
        "We will train the PixelCNN to learn a categorical distribution of the discrete codes.\n",
        "First, we will generate code indices using the encoder and vector quantizer we just\n",
        "trained. Our training objective will be to minimize the crossentropy loss between these\n",
        "indices and the PixelCNN outputs. Here, the number of categories is equal to the number\n",
        "of embeddings present in our codebook (128 in our case). The PixelCNN model is\n",
        "trained to learn a distribution (as opposed to minimizing the L1/L2 loss), which is where\n",
        "it gets its generative capabilities from."
      ]
    },
    {
      "cell_type": "code",
      "execution_count": null,
      "metadata": {
        "id": "6Bt0Z-lXUUh6"
      },
      "outputs": [],
      "source": [
        "# Generate the codebook indices.\n",
        "encoded_outputs = encoder.predict(x_train_scaled)\n",
        "flat_enc_outputs = encoded_outputs.reshape(-1, encoded_outputs.shape[-1])\n",
        "codebook_indices = quantizer.get_code_indices(flat_enc_outputs)\n",
        "\n",
        "codebook_indices = codebook_indices.numpy().reshape(encoded_outputs.shape[:-1])\n",
        "print(f\"Shape of the training data for PixelCNN: {codebook_indices.shape}\")"
      ]
    },
    {
      "cell_type": "markdown",
      "metadata": {
        "id": "2OeLNaiyUUh7"
      },
      "source": [
        "## PixelCNN training"
      ]
    },
    {
      "cell_type": "code",
      "execution_count": null,
      "metadata": {
        "id": "7C9K15ZyUUh7"
      },
      "outputs": [],
      "source": [
        "pixel_cnn.compile(\n",
        "    optimizer=keras.optimizers.Adam(3e-4),\n",
        "    loss=keras.losses.SparseCategoricalCrossentropy(from_logits=True),\n",
        "    metrics=[\"accuracy\"],\n",
        ")\n",
        "pixel_cnn.fit(\n",
        "    x=codebook_indices,\n",
        "    y=codebook_indices,\n",
        "    batch_size=128,\n",
        "    epochs=30,\n",
        "    validation_split=0.1,\n",
        ")"
      ]
    },
    {
      "cell_type": "markdown",
      "metadata": {
        "id": "PUqlCGhXUUh7"
      },
      "source": [
        "We can improve these scores with more training and hyperparameter tuning."
      ]
    },
    {
      "cell_type": "markdown",
      "metadata": {
        "id": "P3p-FDj_UUh7"
      },
      "source": [
        "## Codebook sampling\n",
        "\n",
        "Now that our PixelCNN is trained, we can sample distinct codes from its outputs and pass\n",
        "them to our decoder to generate novel images."
      ]
    },
    {
      "cell_type": "code",
      "execution_count": null,
      "metadata": {
        "id": "6csp1zDBUUh7"
      },
      "outputs": [],
      "source": [
        "# Create a mini sampler model.\n",
        "inputs = layers.Input(shape=pixel_cnn.input_shape[1:])\n",
        "outputs = pixel_cnn(inputs, training=False)\n",
        "categorical_layer = tfp.layers.DistributionLambda(tfp.distributions.Categorical)\n",
        "outputs = categorical_layer(outputs)\n",
        "sampler = keras.Model(inputs, outputs)"
      ]
    },
    {
      "cell_type": "markdown",
      "metadata": {
        "id": "KCQQ2Uo8UUh7"
      },
      "source": [
        "We now construct a prior to generate images. Here, we will generate 10 images."
      ]
    },
    {
      "cell_type": "code",
      "execution_count": null,
      "metadata": {
        "id": "f2sxjkVWUUh7"
      },
      "outputs": [],
      "source": [
        "# Create an empty array of priors.\n",
        "batch = 10\n",
        "priors = np.zeros(shape=(batch,) + (pixel_cnn.input_shape)[1:])\n",
        "batch, rows, cols = priors.shape\n",
        "\n",
        "# Iterate over the priors because generation has to be done sequentially pixel by pixel.\n",
        "for row in range(rows):\n",
        "    for col in range(cols):\n",
        "        # Feed the whole array and retrieving the pixel value probabilities for the next\n",
        "        # pixel.\n",
        "        probs = sampler.predict(priors)\n",
        "        # Use the probabilities to pick pixel values and append the values to the priors.\n",
        "        priors[:, row, col] = probs[:, row, col]\n",
        "\n",
        "print(f\"Prior shape: {priors.shape}\")"
      ]
    },
    {
      "cell_type": "markdown",
      "metadata": {
        "id": "TV07VNuKUUiJ"
      },
      "source": [
        "We can now use our decoder to generate the images."
      ]
    },
    {
      "cell_type": "code",
      "execution_count": null,
      "metadata": {
        "id": "iJz1ajVVUUiJ"
      },
      "outputs": [],
      "source": [
        "# Perform an embedding lookup.\n",
        "pretrained_embeddings = quantizer.embeddings\n",
        "priors_ohe = tf.one_hot(priors.astype(\"int32\"), vqvae_trainer.num_embeddings).numpy()\n",
        "quantized = tf.matmul(\n",
        "    priors_ohe.astype(\"float32\"), pretrained_embeddings, transpose_b=True\n",
        ")\n",
        "quantized = tf.reshape(quantized, (-1, *(encoded_outputs.shape[1:])))\n",
        "\n",
        "# Generate novel images.\n",
        "decoder = vqvae_trainer.vqvae.get_layer(\"decoder\")\n",
        "generated_samples = decoder.predict(quantized)\n",
        "\n",
        "for i in range(batch):\n",
        "    plt.subplot(1, 2, 1)\n",
        "    plt.imshow(priors[i])\n",
        "    plt.title(\"Code\")\n",
        "    plt.axis(\"off\")\n",
        "\n",
        "    plt.subplot(1, 2, 2)\n",
        "    plt.imshow(generated_samples[i].squeeze() + 0.5)\n",
        "    plt.title(\"Generated Sample\")\n",
        "    plt.axis(\"off\")\n",
        "    plt.show()"
      ]
    },
    {
      "cell_type": "markdown",
      "metadata": {
        "id": "B3dKOwOUUUiJ"
      },
      "source": [
        "We can enhance the quality of these generated samples by tweaking the PixelCNN."
      ]
    },
    {
      "cell_type": "markdown",
      "metadata": {
        "id": "zFx3wFOtUUiJ"
      },
      "source": [
        "## Additional notes\n",
        "\n",
        "* After the VQ-VAE paper was initially released, the authors developed an exponential\n",
        "moving averaging scheme to update the embeddings inside the quantizer. If you're\n",
        "interested you can check out\n",
        "[this snippet](https://github.com/deepmind/sonnet/blob/master/sonnet/python/modules/nets/vqvae.py#L124).\n",
        "* To further enhance the quality of the generated samples,\n",
        "[VQ-VAE-2](https://arxiv.org/abs/1906.00446) was proposed that follows a cascaded\n",
        "approach to learn the codebook and to generate the images."
      ]
    }
  ],
  "metadata": {
    "colab": {
      "provenance": [],
      "toc_visible": true
    },
    "kernelspec": {
      "display_name": "venv",
      "language": "python",
      "name": "python3"
    },
    "language_info": {
      "codemirror_mode": {
        "name": "ipython",
        "version": 3
      },
      "file_extension": ".py",
      "mimetype": "text/x-python",
      "name": "python",
      "nbconvert_exporter": "python",
      "pygments_lexer": "ipython3",
      "version": "3.11.0"
    }
  },
  "nbformat": 4,
  "nbformat_minor": 0
}
